{
 "cells": [
  {
   "cell_type": "markdown",
   "metadata": {
    "collapsed": true
   },
   "source": [
    "# 5. Build Rocket Docker Image\n",
    "This instruction describes how to build a Rocket image from its source code. You can also choose to deploy pre-built Rocket images with LVA. To do so, please skip the instructions below and move to the next section on [configuring lines of interest](./06_line_configuration.md)."
   ]
  },
  {
   "cell_type": "markdown",
   "metadata": {},
   "source": [
    "## 5.1. Get global variables\n",
    "We will need to read the previously stored variables and login to ACR created in [03_create_azure_services.ipynb](./03_create_azure_services.ipynb) for image uploading.  "
   ]
  },
  {
   "cell_type": "code",
   "execution_count": null,
   "metadata": {},
   "outputs": [],
   "source": [
    "from dotenv import set_key, get_key, find_dotenv\n",
    "envPath = find_dotenv(raise_error_if_not_found=True)\n",
    "\n",
    "containerImageName = get_key(envPath, \"containerImageName\")\n",
    "acrServiceName = get_key(envPath, \"acrServiceName\")\n",
    "acrServiceFullName = acrServiceName+\".azurecr.io\"\n",
    "acrUserName = get_key(envPath, \"acrUserName\")\n",
    "acrPassword = get_key(envPath, \"acrPassword\")"
   ]
  },
  {
   "cell_type": "code",
   "execution_count": null,
   "metadata": {},
   "outputs": [],
   "source": [
    "!docker login --username $acrUserName --password $acrPassword  $acrServiceFullName"
   ]
  },
  {
   "cell_type": "markdown",
   "metadata": {},
   "source": [
    "## 5.2. Build on Linux\n",
    "Rocket is built using .NET Core, and we recommend running it as a [Docker](https://www.docker.com/) container is recommended. Below we use Ubuntu 18.04 as an example to walk through the steps of building Rocket docker image and run it with GPU acceleration. "
   ]
  },
  {
   "cell_type": "markdown",
   "metadata": {},
   "source": [
    "### 5.2.1. Prerequisites"
   ]
  },
  {
   "cell_type": "markdown",
   "metadata": {},
   "source": [
    "* [Visual Studio Code](https://code.visualstudio.com/) is recommended IDE for Rocket on Linux.\n",
    "* Install Git (https://git-scm.com/book/en/v2/Getting-Started-Installing-Git).  "
   ]
  },
  {
   "cell_type": "code",
   "execution_count": null,
   "metadata": {},
   "outputs": [],
   "source": [
    "!sudo apt update\n",
    "!sudo apt install -y git-all"
   ]
  },
  {
   "cell_type": "markdown",
   "metadata": {},
   "source": [
    "* Install [docker-ce](https://docs.docker.com/install/linux/docker-ce/ubuntu/)."
   ]
  },
  {
   "cell_type": "code",
   "execution_count": null,
   "metadata": {},
   "outputs": [],
   "source": [
    "!sudo apt-get update\n",
    "\n",
    "!sudo apt-get install -y \\\n",
    "    apt-transport-https \\\n",
    "    ca-certificates \\\n",
    "    curl \\\n",
    "    gnupg-agent \\\n",
    "    software-properties-common"
   ]
  },
  {
   "cell_type": "code",
   "execution_count": null,
   "metadata": {},
   "outputs": [],
   "source": [
    "!curl -fsSL https://download.docker.com/linux/ubuntu/gpg | sudo apt-key add -"
   ]
  },
  {
   "cell_type": "code",
   "execution_count": null,
   "metadata": {},
   "outputs": [],
   "source": [
    "!sudo apt-key fingerprint 0EBFCD88"
   ]
  },
  {
   "cell_type": "code",
   "execution_count": null,
   "metadata": {},
   "outputs": [],
   "source": [
    "!sudo add-apt-repository \\\n",
    "   \"deb [arch=amd64] https://download.docker.com/linux/ubuntu \\\n",
    "   $(lsb_release -cs) \\\n",
    "   stable\""
   ]
  },
  {
   "cell_type": "code",
   "execution_count": null,
   "metadata": {},
   "outputs": [],
   "source": [
    "!sudo apt-get update\n",
    "!sudo apt-get install -y docker-ce docker-ce-cli containerd.io"
   ]
  },
  {
   "cell_type": "markdown",
   "metadata": {},
   "source": [
    "### 5.2.2. Build your own Rocket image on Linux"
   ]
  },
  {
   "cell_type": "markdown",
   "metadata": {},
   "source": [
    "* Git clone the release-lva branch from [repository](https://aka.ms/rocketcodelva/).\n",
    "* Run `docker build` to [build](https://docs.docker.com/engine/reference/commandline/build/) Rocket image using `Dockerfile` in the root directory of the Rocket.  "
   ]
  },
  {
   "cell_type": "code",
   "execution_count": null,
   "metadata": {},
   "outputs": [],
   "source": [
    "!sudo cd <rocket_root_directory>"
   ]
  },
  {
   "cell_type": "code",
   "execution_count": null,
   "metadata": {},
   "outputs": [],
   "source": [
    "!sudo docker build -t $acrServiceFullName/$containerImageName -f Dockerfile ."
   ]
  },
  {
   "cell_type": "markdown",
   "metadata": {},
   "source": [
    "* Push Rocket image to the Azure Container Registry created before for Rocket to run on the IoT Edge Device. You can also choose to push it to a different cloud repository (e.g., docker hub). "
   ]
  },
  {
   "cell_type": "code",
   "execution_count": null,
   "metadata": {},
   "outputs": [],
   "source": [
    "!sudo docker push $acrServiceFullName/$containerImageName"
   ]
  },
  {
   "cell_type": "markdown",
   "metadata": {},
   "source": [
    "## 5.3. Build on Windows"
   ]
  },
  {
   "cell_type": "markdown",
   "metadata": {},
   "source": [
    "### 5.3.1. Prerequisites"
   ]
  },
  {
   "cell_type": "markdown",
   "metadata": {},
   "source": [
    "* [Microsoft Visual Studio](https://visualstudio.microsoft.com/downloads/) (>= VS 2017) is recommended IDE for Rocket on Windows 10. \n",
    "* Install Git for Windows (https://git-scm.com/download/win).\n",
    "* Install Docker Desktop for Windows (https://docs.docker.com/docker-for-windows/install/), and set it to `Linux containers` in Settings."
   ]
  },
  {
   "cell_type": "markdown",
   "metadata": {},
   "source": [
    "### 5.3.2. Build your own Rocket image on Windows"
   ]
  },
  {
   "cell_type": "markdown",
   "metadata": {},
   "source": [
    "* Git clone the release-lva branch from [repository](https://aka.ms/rocketcodelva/).\n",
    "* Build docker image in Windows PowerShell in the root directory of Rocket.  "
   ]
  },
  {
   "cell_type": "code",
   "execution_count": null,
   "metadata": {},
   "outputs": [],
   "source": [
    "!cd <rocket_root_directory>"
   ]
  },
  {
   "cell_type": "code",
   "execution_count": null,
   "metadata": {},
   "outputs": [],
   "source": [
    "!docker build -t $acrServiceFullName/$containerImageName -f Dockerfile ."
   ]
  },
  {
   "cell_type": "markdown",
   "metadata": {},
   "source": [
    "* Push docker image.  "
   ]
  },
  {
   "cell_type": "code",
   "execution_count": null,
   "metadata": {},
   "outputs": [],
   "source": [
    "!docker push $acrServiceFullName/$containerImageName"
   ]
  }
 ],
  "metadata": {
    "jupytext": {
    "cell_metadata_filter": "-all",
    "main_language": "python"
    },
    "kernelspec": {
    "display_name": "",
    "language": "",
    "name": ""
    }
  },
 "nbformat": 4,
 "nbformat_minor": 2
}
