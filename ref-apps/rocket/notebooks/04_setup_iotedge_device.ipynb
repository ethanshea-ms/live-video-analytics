{
 "cells": [
  {
   "cell_type": "markdown",
   "metadata": {},
   "source": [
    "# 4. Setting up the IoT Edge device\n",
    "\n",
    "## 4.1. Prerequisites\n",
    "- An edge device\n",
    "    - In this sample we will create a Virtual Machine (VM) in your Azure cloud subscription\n",
    "    - If you want to use your own edge device (a physical PC), follow the steps below (omitting the create VM section) and install below same software (docker engines, iotedge runtime etc.) and approapriate Nvidia GPU driver on your device.\n",
    "- An NVidia GPU accelerator (On Azure, N series Virtual Machines have GPU card, so we will create an N series VM)"
   ]
  },
  {
   "cell_type": "markdown",
   "metadata": {},
   "source": [
    "## 4.2. Get global variables\n",
    "We will read the previously stored variables## 3.1. Get global variables\n",
    "We will read the previously stored variables"
   ]
  },
  {
   "cell_type": "code",
   "execution_count": null,
   "metadata": {},
   "outputs": [],
   "source": [
    "from dotenv import set_key, get_key, find_dotenv\n",
    "envPath = find_dotenv(raise_error_if_not_found=True)\n",
    "\n",
    "resourceLocation = get_key(envPath, \"resourceLocation\")\n",
    "resourceGroupName = get_key(envPath, \"resourceGroupName\")\n",
    "iotEdgeDeviceConnString = get_key(envPath, \"iotEdgeDeviceConnString\")\n",
    "# We will use IoT Edge Device ID also as VM name\n",
    "iotDeviceId = get_key(envPath, \"iotDeviceId\")\n",
    "\n",
    "# We get current username so will use it to create SSH keys for connecting the VM\n",
    "import os\n",
    "userName = os.environ['USER']"
   ]
  },
  {
   "cell_type": "markdown",
   "metadata": {},
   "source": [
    "## 4.3. Create a Virtual Machine with GPU\n",
    "With following steps, we will execute a shell script to create an Ubuntu VM in your Azure subscription with required libraries installed.  \n",
    "\n",
    "### 4.3.1 Set parameters to be used for creating the Virtual Machine\n",
    "https://docs.microsoft.com/en-us/azure/virtual-machines/windows/quick-create-cli"
   ]
  },
  {
   "cell_type": "code",
   "execution_count": null,
   "metadata": {},
   "outputs": [],
   "source": [
    "# Select VM size per your speed requirements. https://docs.microsoft.com/en-us/azure/virtual-machines/sizes-general \n",
    "# NC-series VMs are powered by the NVIDIA Tesla K80 card and the Intel Xeon E5-2690 v3 (Haswell) processor. \n",
    "vm_size=\"Standard_NC6\"\n",
    "\n",
    "dns_name = iotDeviceId\n",
    "public_ip_name = iotDeviceId + 'publicip'\n",
    "vnet_name=iotDeviceId + 'vnet'\n",
    "subnet_name=iotDeviceId + 'subnet'\n",
    "vnet_prefix=\"192.168.0.0/16\"\n",
    "subnet_name=\"FrontEnd\"\n",
    "subnet_prefix=\"192.168.1.0/24\"\n",
    "nsg_name=iotDeviceId + 'nsg'\n",
    "nic_name=iotDeviceId + 'nic'\n",
    "\n",
    "# Static DNS name of the VM.\n",
    "vm_dns_name= iotDeviceId + \".\" + resourceLocation + \".cloudapp.azure.com\""
   ]
  },
  {
   "cell_type": "code",
   "execution_count": null,
   "metadata": {},
   "outputs": [],
   "source": [
    "%%bash --out output -s \"$iotDeviceId\" \"$userName\" \"$vm_dns_name\"\n",
    "\n",
    "# -----------------------\n",
    "# Create SSH Keys - !!! DONT RUN THIS CELL AFTER THE VM CREATED. IT WILL RESET THE PUBLIC KEYS!!!\n",
    "# -----------------------\n",
    "# Create public/private ssh keys.\n",
    "yes y | ssh-keygen -b 2048 -t rsa -f ~/.ssh/$1\"_id_rsa\" -C $2@$3 -q -N '' >/dev/null\n",
    "\n",
    "# Remove prev. trusted host with same name (IP may be changed)\n",
    "if [ -e ~/.ssh/known_hosts ]; then\n",
    "ssh-keygen -f ~/.ssh/known_hosts -R $3\n",
    "fi"
   ]
  },
  {
   "cell_type": "code",
   "execution_count": null,
   "metadata": {},
   "outputs": [],
   "source": [
    "%%bash -s \"$resourceGroupName\" \"$resourceLocation\" \"$public_ip_name\" \"$dns_name\" \"$vnet_name\" \"$vnet_prefix\" \"$subnet_name\" \"$subnet_prefix\" \"$nsg_name\" \"$nic_name\" \"$iotDeviceId\" \"$vm_size\"\n",
    "\n",
    "# Create resource group\n",
    "az group create                                                                             \\\n",
    "    --name \"$1\"                                                                             \\\n",
    "    --location \"$2\"\n",
    "\n",
    "# Create a public IP address resource with a static IP address\n",
    "az network public-ip create                                                                 \\\n",
    "   --name \"$3\"                                                                              \\\n",
    "   --resource-group \"$1\"                                                                    \\\n",
    "   --location \"$2\"                                                                          \\\n",
    "   --allocation-method Static                                                               \\\n",
    "   --dns-name \"$4\"                                                                                   \n",
    "\n",
    "# Create a virtual network with one subnet\n",
    "az network vnet create                                                                      \\\n",
    "   --name \"$5\"                                                                              \\\n",
    "   --resource-group \"$1\"                                                                    \\\n",
    "   --location \"$2\"                                                                          \\\n",
    "   --address-prefix \"$6\"                                                                    \\\n",
    "   --subnet-name \"$7\"                                                                       \\\n",
    "   --subnet-prefix \"$8\"                                                                         \n",
    "\n",
    "\n",
    "az network nsg create                                                                       \\\n",
    "   --name \"$9\"                                                                              \\\n",
    "   --resource-group \"$1\"                                                                  \n",
    "\n",
    "# Open SSH port\n",
    "az network nsg rule create                                                                  \\\n",
    "   --resource-group \"$1\"                                                                    \\\n",
    "   --nsg-name \"$9\"                                                                          \\\n",
    "   --name \"Default SSH\"                                                                     \\\n",
    "   --destination-port-ranges 22                                                             \\\n",
    "   --protocol Tcp                                                                           \\\n",
    "   --access Allow                                                                           \\\n",
    "   --priority 1020\n",
    "\n",
    "# Create a network interface connected to the VNet with a static private IP address \n",
    "# and associate the public IP address resource to the NIC.\n",
    "az network nic create                                                                       \\\n",
    "   --name \"${10}\"                                                                           \\\n",
    "   --resource-group \"$1\"                                                                    \\\n",
    "   --location \"$2\"                                                                          \\\n",
    "   --subnet \"$7\"                                                                            \\\n",
    "   --vnet-name \"$5\"                                                                         \\\n",
    "   --public-ip-address \"$3\"                                                                 \\\n",
    "   --network-security-group \"$9\"                                                                     \n",
    "\n",
    "# Create the VM\n",
    "# For image param: Ubuntu 16.04-LTS image -> https://docs.microsoft.com/en-us/azure/virtual-machines/linux/cli-ps-findimage\n",
    "# Instead of Password login, we are uploading Private SSH key. Update the path accrodingly if needed\n",
    "az vm create                                                                                \\\n",
    "   --name \"${11}\"                                                                           \\\n",
    "   --resource-group \"$1\"                                                                    \\\n",
    "   --location \"$2\"                                                                          \\\n",
    "   --storage-sku Standard_LRS                                                               \\\n",
    "   --os-disk-name \"${11}\"\"_osdisk\"                                                          \\\n",
    "   --image \"Canonical:UbuntuServer:18.04-LTS:latest\"                                        \\\n",
    "   --size \"Standard_NC6\"                                                                    \\\n",
    "   --nics \"${10}\"                                                                           \\\n",
    "   --authentication-type ssh                                                                \\\n",
    "   --ssh-key-value \"$(< ~/.ssh/\"${11}\"_id_rsa.pub)\""
   ]
  },
  {
   "cell_type": "markdown",
   "metadata": {},
   "source": [
    "The above command may take a couple minutes for the creation of VMs and services. Once it's done, you can go to Azure Portal and check the resources. Below is an Azure Portal snapshot with all services created in the command above. \n",
    "<img src=\"documents/_iotedgedevice_portal.png\" alt=\"iotedgedeviceportal\" width=\"1280\">  "
   ]
  },
  {
   "cell_type": "code",
   "execution_count": null,
   "metadata": {},
   "outputs": [],
   "source": [
    "%%bash -s \"$iotDeviceId\" \"$userName\" \"$vm_dns_name\"\n",
    "\n",
    "# Install ssh keys to remote machine\n",
    "ssh -i ~/.ssh/$1\"_id_rsa\" -o \"StrictHostKeyChecking no\" $2@$3 \"echo 'SSH key transferred.'\""
   ]
  },
  {
   "cell_type": "markdown",
   "metadata": {},
   "source": [
    "### 4.3.3 Install NVidia Cuda Drivers for Tesla K80\n",
    "https://docs.microsoft.com/en-us/azure/virtual-machines/linux/n-series-driver-setup\n",
    "\n",
    "Execution of below cell may take few minutes."
   ]
  },
  {
   "cell_type": "code",
   "execution_count": null,
   "metadata": {},
   "outputs": [],
   "source": [
    "%%bash -s \"$iotDeviceId\" \"$userName\" \"$vm_dns_name\"\n",
    "\n",
    "ssh -i ~/.ssh/$1\"_id_rsa\" $2@$3 << EOF\n",
    "\n",
    "# Install driver\n",
    "wget -O /tmp/cuda-repo-ubuntu1804_10.0.130-1_amd64.deb http://developer.download.nvidia.com/compute/cuda/repos/ubuntu1804/x86_64/cuda-repo-ubuntu1804_10.0.130-1_amd64.deb \n",
    "sudo dpkg -i /tmp/cuda-repo-ubuntu1804_10.0.130-1_amd64.deb\n",
    "sudo apt-key adv --fetch-keys https://developer.download.nvidia.com/compute/cuda/repos/ubuntu1804/x86_64/7fa2af80.pub \n",
    "rm -f /tmp/cuda-repo-ubuntu1804_10.0.130-1_amd64.deb\n",
    "sudo apt-get update\n",
    "sudo apt-get install cuda-drivers\n",
    "\n",
    "# Restart the VM\n",
    "sudo -b bash -c 'sleep 5; reboot' &>/dev/null;\n",
    "\n",
    "EOF"
   ]
  },
  {
   "cell_type": "markdown",
   "metadata": {},
   "source": [
    "In this step we will wait few minutes because in the previous cell we restarted the VM and will wait it to reboot."
   ]
  },
  {
   "cell_type": "markdown",
   "metadata": {},
   "source": [
    "### 4.3.4 Install Docker Engine on Ubuntu\n",
    "https://docs.docker.com/engine/install/ubuntu/\n"
   ]
  },
  {
   "cell_type": "code",
   "execution_count": null,
   "metadata": {},
   "outputs": [],
   "source": [
    "%%bash -s \"$iotDeviceId\" \"$userName\" \"$vm_dns_name\"\n",
    "\n",
    "ssh -i ~/.ssh/$1\"_id_rsa\" $2@$3 << EOF\n",
    "\n",
    "sudo apt-get update\n",
    "\n",
    "sudo apt-get install -y \\\n",
    "    apt-transport-https \\\n",
    "    ca-certificates \\\n",
    "    curl \\\n",
    "    gnupg-agent \\\n",
    "    software-properties-common\n",
    "\n",
    "curl -fsSL https://download.docker.com/linux/ubuntu/gpg | sudo apt-key add -\n",
    "\n",
    "sudo apt-key fingerprint 0EBFCD88\n",
    "\n",
    "sudo add-apt-repository \"deb [arch=amd64] https://download.docker.com/linux/ubuntu bionic stable\"\n",
    "\n",
    "sudo apt-get update\n",
    "\n",
    "sudo apt-get install -y docker-ce docker-ce-cli containerd.io\n",
    "\n",
    "EOF"
   ]
  },
  {
   "cell_type": "markdown",
   "metadata": {},
   "source": [
    "### 4.3.5 Install NVIDIA Container Toolkit\n",
    "\n",
    "https://github.com/NVIDIA/nvidia-docker#upgrading-with-nvidia-docker2-deprecated\n",
    "\n",
    "!!! Important !!! Take care about following note on \"nvidia-docker\" website:\n",
    "\n",
    "> Note that in the future, nvidia-docker2 packages will no longer be supported.\n",
    "\n",
    "Since current version of IoT Edge Runtime (1.0.9) supports this V2, we are going with it for now."
   ]
  },
  {
   "cell_type": "code",
   "execution_count": null,
   "metadata": {},
   "outputs": [],
   "source": [
    "%%bash  -s \"$iotDeviceId\" \"$userName\" \"$vm_dns_name\"\n",
    "\n",
    "ssh -i ~/.ssh/$1\"_id_rsa\" $2@$3 << EOF\n",
    "\n",
    "curl -s -L https://nvidia.github.io/nvidia-docker/gpgkey | sudo apt-key add -\n",
    "curl -s -L https://nvidia.github.io/nvidia-docker/ubuntu18.04/nvidia-docker.list | sudo tee /etc/apt/sources.list.d/nvidia-docker.list\n",
    "\n",
    "sudo apt-get update\n",
    "\n",
    "sudo apt-get install -y nvidia-docker2\n",
    "\n",
    "sudo systemctl restart docker\n",
    "\n",
    "EOF"
   ]
  },
  {
   "cell_type": "markdown",
   "metadata": {},
   "source": [
    "### Test the installation and access to GPU within a container"
   ]
  },
  {
   "cell_type": "code",
   "execution_count": null,
   "metadata": {},
   "outputs": [],
   "source": [
    "%%bash  -s \"$iotDeviceId\" \"$userName\" \"$vm_dns_name\"\n",
    "ssh -i ~/.ssh/$1\"_id_rsa\" $2@$3 << EOF\n",
    "\n",
    "# sudo docker run --gpus all nvidia/cuda:10.0-base nvidia-smi\n",
    "sudo docker run --runtime nvidia nvidia/cuda:10.0-base nvidia-smi\n",
    "\n",
    "EOF"
   ]
  },
  {
   "cell_type": "markdown",
   "metadata": {},
   "source": [
    "### 4.3.6 Install the Azure IoT Edge runtime\n"
   ]
  },
  {
   "cell_type": "code",
   "execution_count": null,
   "metadata": {},
   "outputs": [],
   "source": [
    "%%bash  -s \"$iotDeviceId\" \"$userName\" \"$vm_dns_name\"\n",
    "ssh -i ~/.ssh/$1\"_id_rsa\" $2@$3 << EOF\n",
    "\n",
    "sudo apt-get -y install curl\n",
    "\n",
    "curl https://packages.microsoft.com/config/ubuntu/18.04/multiarch/prod.list > ./microsoft-prod.list\n",
    "sudo cp ./microsoft-prod.list /etc/apt/sources.list.d/\n",
    "curl https://packages.microsoft.com/keys/microsoft.asc | gpg --dearmor > microsoft.gpg\n",
    "sudo cp ./microsoft.gpg /etc/apt/trusted.gpg.d/\n",
    "sudo apt-get -y update\n",
    "sudo apt-get -y install iotedge\n",
    "\n",
    "EOF"
   ]
  },
  {
   "cell_type": "markdown",
   "metadata": {},
   "source": [
    "### 4.3.7. Set up the configuration file of IoT Edge Runtime\n",
    "\n",
    "With below command, IoT Edge Runtime in the VM will be configured."
   ]
  },
  {
   "cell_type": "code",
   "execution_count": null,
   "metadata": {},
   "outputs": [],
   "source": [
    "%%bash  -s \"$iotDeviceId\" \"$userName\" \"$vm_dns_name\" \"$iotEdgeDeviceConnString\"\n",
    "ssh -i ~/.ssh/$1\"_id_rsa\" $2@$3 << EOF\n",
    "\n",
    "sudo sed -i \"s#\\(device_connection_string: \\).*#\\1\\'$4\\'#g\" /etc/iotedge/config.yaml\n",
    "\n",
    "sudo systemctl restart iotedge\n",
    "\n",
    "EOF"
   ]
  },
  {
   "cell_type": "markdown",
   "metadata": {},
   "source": [
    "### Restart the VM"
   ]
  },
  {
   "cell_type": "code",
   "execution_count": null,
   "metadata": {},
   "outputs": [],
   "source": [
    "%%bash  -s \"$iotDeviceId\" \"$userName\" \"$vm_dns_name\"\n",
    "ssh -i ~/.ssh/$1\"_id_rsa\" $2@$3 << EOF\n",
    "sudo -b bash -c 'sleep 5; reboot' &>/dev/null;\n",
    "EOF"
   ]
  },
  {
   "cell_type": "markdown",
   "metadata": {},
   "source": [
    "### Get SSH connection string"
   ]
  },
  {
   "cell_type": "code",
   "execution_count": null,
   "metadata": {},
   "outputs": [],
   "source": [
    "# If needed, use the output command to SSH into the VM\n",
    "!echo ssh -i ~/.ssh/$iotDeviceId\"_id_rsa\" $userName@$vm_dns_name"
   ]
  },
  {
   "cell_type": "code",
   "execution_count": null,
   "metadata": {},
   "outputs": [],
   "source": []
  }
 ],
 "metadata": {
  "jupytext": {
   "cell_metadata_filter": "-all",
   "main_language": "python"
  },
  "kernelspec": {
   "display_name": "",
   "language": "",
   "name": ""
  }
 },
 "nbformat": 4,
 "nbformat_minor": 2
}
