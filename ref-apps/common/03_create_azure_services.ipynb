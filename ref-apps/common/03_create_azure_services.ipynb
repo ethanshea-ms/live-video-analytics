{
  "cells": [
    {
      "cell_type": "markdown",
      "metadata": {
        "collapsed": true
      },
      "source": [
        "# 3. Create Required Azure Services\n",
        "You should run first jupyter notebook [02_setup_environment.ipynb](./02_setup_environment.ipynb) in this sample to set the global variables. Once it is run, you dont need to repeat it again and again as the variables etc. stored in an environment file. You may need to run it again only in case you delete the \".env\" file or your Azure login session expires."
      ]
    },
    {
      "cell_type": "markdown",
      "metadata": {},
      "source": [
        "## 3.1. Get global variables\n",
        "We will read the previously stored variables"
      ]
    },
    {
      "cell_type": "code",
      "execution_count": null,
      "metadata": {},
      "outputs": [],
      "source": [
        "from dotenv import set_key, get_key, find_dotenv\n",
        "envPath = find_dotenv(raise_error_if_not_found=True)\n",
        "\n",
        "azureSubsctiptionId = get_key(envPath, \"azureSubsctiptionId\")\n",
        "resourceLocation = get_key(envPath, \"resourceLocation\")\n",
        "resourceGroupName = get_key(envPath, \"resourceGroupName\")\n",
        "acrServiceName = get_key(envPath, \"acrServiceName\")\n",
        "iotHubServiceName = get_key(envPath, \"iotHubServiceName\")\n",
        "iotDeviceId = get_key(envPath, \"iotDeviceId\")\n",
        "mediaServiceName = get_key(envPath, \"mediaServiceName\")\n",
        "storageServiceName = get_key(envPath, \"storageServiceName\")"
      ]
    },
    {
      "cell_type": "markdown",
      "metadata": {},
      "source": [
        "## 3.2. Create Resource Group"
      ]
    },
    {
      "cell_type": "code",
      "execution_count": null,
      "metadata": {},
      "outputs": [],
      "source": [
        "!az group create --name $resourceGroupName --location  $resourceLocation"
      ]
    },
    {
      "cell_type": "markdown",
      "metadata": {},
      "source": [
        "## 3.3. Create Azure Container Registry Service"
      ]
    },
    {
      "cell_type": "code",
      "execution_count": null,
      "metadata": {},
      "outputs": [],
      "source": [
        "!az acr create --name $acrServiceName --resource-group $resourceGroupName --location $resourceLocation --sku Basic --admin-enabled true"
      ]
    },
    {
      "cell_type": "markdown",
      "metadata": {},
      "source": [
        "<span style=\"color:red; font-weight: bold; font-size:1.1em;\"> [!Important] </span>  \n",
        "Even the execution of above cell seems to be finished, it may take some time (several seconds) to have the changes reflected on Azure Datacenter. So if you immediately run the below cells after the execution of above one, it may give error by complaining that the ACR service doesnt exists...\n"
      ]
    },
    {
      "cell_type": "markdown",
      "metadata": {},
      "source": [
        "### 3.3.1. Get access credentials to the ACR service"
      ]
    },
    {
      "cell_type": "code",
      "execution_count": null,
      "metadata": {},
      "outputs": [],
      "source": [
        "%%bash --out output -s \"$acrServiceName\"\n",
        "az acr credential show -n $1"
      ]
    },
    {
      "cell_type": "code",
      "execution_count": null,
      "metadata": {},
      "outputs": [],
      "source": [
        "import json\n",
        "jsonRegDetails = json.loads(output)\n",
        "\n",
        "acrUserName = jsonRegDetails['username']\n",
        "acrPassword = jsonRegDetails['passwords'][0]['value']"
      ]
    },
    {
      "cell_type": "markdown",
      "metadata": {},
      "source": [
        "Now save these information into the **.env** file for further use."
      ]
    },
    {
      "cell_type": "code",
      "execution_count": null,
      "metadata": {},
      "outputs": [],
      "source": [
        "set_key(envPath, \"acrUserName\", acrUserName)\n",
        "set_key(envPath, \"acrPassword\", acrPassword)\n",
        "set_key(envPath, \"acrServiceFullName\", acrServiceName+\".azurecr.io\")"
      ]
    },
    {
      "cell_type": "markdown",
      "metadata": {},
      "source": [
        "## 3.4. Create Azure IoT Hub\n",
        "Below cell may give following error: \"IotHub name '<NAME\\>' is not available\" in case service already exist.\n"
      ]
    },
    {
      "cell_type": "code",
      "execution_count": null,
      "metadata": {},
      "outputs": [],
      "source": [
        "!az iot hub create --name $iotHubServiceName --resource-group $resourceGroupName --location $resourceLocation --sku S1"
      ]
    },
    {
      "cell_type": "code",
      "execution_count": null,
      "metadata": {},
      "outputs": [],
      "source": [
        "%%bash --out iotHubConnString -s \"$resourceGroupName\" \"$iotHubServiceName\"\n",
        "\n",
        "az iot hub show-connection-string --hub-name $2 --output tsv"
      ]
    },
    {
      "cell_type": "code",
      "execution_count": null,
      "metadata": {},
      "outputs": [],
      "source": [
        "set_key(envPath, \"iotHubConnString\", iotHubConnString.rstrip())"
      ]
    },
    {
      "cell_type": "markdown",
      "metadata": {
        "trusted": true
      },
      "source": [
        "## 3.5. Create IoT Edge Device\n",
        "Create an IoT Edge device under the Azure IoT Hub service created in above cells. In the further steps, when we connect / match the physical device with this cloud based one through the device connection string, everything in this cloud one will be cloned into the physical device (all IoT Edge modules etc.)\n",
        "\n",
        "In this step we are also printing out and saving the IoT Edge device connection string which will be used in !!!further steps!!!."
      ]
    },
    {
      "cell_type": "code",
      "execution_count": null,
      "metadata": {},
      "outputs": [],
      "source": [
        "# Install iot hub CLI extensions\n",
        "!az extension add --name azure-cli-iot-ext"
      ]
    },
    {
      "cell_type": "code",
      "execution_count": null,
      "metadata": {},
      "outputs": [],
      "source": [
        "%%bash --out iotEdgeDeviceConnString -s \"$resourceGroupName\" \"$iotHubServiceName\" \"$iotDeviceId\"\n",
        "# Create edge device if not already exists\n",
        "az iot hub device-identity show --resource-group $1 --hub-name $2 --device-id $3 &> /dev/null\n",
        "\n",
        "if [ $? -ne 0 ]; then\n",
        "    az iot hub device-identity create --hub-name $2 --device-id $3 --edge-enabled &> /dev/null\n",
        "fi\n",
        "\n",
        "az iot hub device-identity show-connection-string --hub-name $2 --device-id $3 --output tsv"
      ]
    },
    {
      "cell_type": "code",
      "execution_count": null,
      "metadata": {},
      "outputs": [],
      "source": [
        "set_key(envPath, \"iotEdgeDeviceConnString\", iotEdgeDeviceConnString.rstrip())"
      ]
    },
    {
      "cell_type": "code",
      "execution_count": null,
      "metadata": {},
      "outputs": [],
      "source": [
        "# Print out IoT Edge Device deteails and store its connection string...\n",
        "print('Azure IoT Hub Name: {}'.format(iotHubServiceName))\n",
        "print('Azure IoT device id : {}'.format(iotDeviceId))\n",
        "print('IoT Edge Device Connection String: {}'.format(iotEdgeDeviceConnString))\n",
        "print('IoT Hub Connection String: {}'.format(iotHubConnString))"
      ]
    },
    {
      "cell_type": "markdown",
      "metadata": {},
      "source": [
        "## 3.6. Create Azure Storage Services\n",
        "Required by Azure Media Services"
      ]
    },
    {
      "cell_type": "code",
      "execution_count": null,
      "metadata": {},
      "outputs": [],
      "source": [
        "!az storage account create --name $storageServiceName --resource-group $resourceGroupName --location $resourceLocation --sku Standard_LRS"
      ]
    },
    {
      "cell_type": "markdown",
      "metadata": {},
      "source": [
        "## 3.7. Create Azure Media Services\n",
        "\n",
        "Create media services for archiving edge streams"
      ]
    },
    {
      "cell_type": "code",
      "execution_count": null,
      "metadata": {},
      "outputs": [],
      "source": [
        "!az ams account create --name $mediaServiceName --resource-group $resourceGroupName --storage-account $storageServiceName --location $resourceLocation"
      ]
    },
    {
      "cell_type": "markdown",
      "metadata": {},
      "source": [
        "## 3.8. Create Azure Service Principal\n"
      ]
    },
    {
      "cell_type": "code",
      "execution_count": null,
      "metadata": {},
      "outputs": [],
      "source": [
        "%%bash --out output -s \"$mediaServiceName\" \"$resourceGroupName\" \n",
        "\n",
        "az ams account sp create --account-name $1 --resource-group $2 --name lvasp$2 --output json\n",
        "\n",
        "if [ $? -ne 0 ]; then\n",
        "    az ams account sp reset-credentials --account-name $1 --resource-group lvasp$2 --name $2 --output json\n",
        "fi"
      ]
    },
    {
      "cell_type": "code",
      "execution_count": null,
      "metadata": {},
      "outputs": [],
      "source": [
        "import json\n",
        "\n",
        "amssp = json.loads(output)\n",
        "\n",
        "aadTenantId = amssp['AadTenantId']\n",
        "aadServicePrincipalId = amssp['AadClientId']\n",
        "aadServicePrincipalSecret = amssp['AadSecret']\n",
        "\n",
        "set_key(envPath, \"aadTenantId\", aadTenantId)\n",
        "set_key(envPath, \"aadServicePrincipalId\", aadServicePrincipalId)\n",
        "set_key(envPath, \"aadServicePrincipalSecret\", aadServicePrincipalSecret)"
      ]
    }
  ],
  "metadata": {
    "jupytext": {
    "cell_metadata_filter": "-all",
    "main_language": "python"
    },
    "kernelspec": {
    "display_name": "",
    "language": "",
    "name": ""
    }
  },
  "nbformat": 4,
  "nbformat_minor": 2
}