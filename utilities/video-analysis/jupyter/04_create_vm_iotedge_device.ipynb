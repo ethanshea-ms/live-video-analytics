{
 "cells": [
  {
   "cell_type": "markdown",
   "metadata": {},
   "source": [
    "# 4. Create Azure Virtual Machine as IoT Edge device"
   ]
  },
  {
   "cell_type": "code",
   "execution_count": 1,
   "metadata": {},
   "outputs": [],
   "source": [
    "# In case the sample requires a GPU, use a GPU tier VM size such as:\n",
    "#           Standard_NC6\n",
    "#\n",
    "# In case you will not use additional accelerator but just CPU, you may prefer raw CPU VM such as:\n",
    "#           Standard_DS3_v2\n",
    "#\n",
    "# Set below variable according to your sample's requirements.\n",
    "\n",
    "vm_size=\"Standard_NC6\"\n",
    "vm_size=\"Standard_DS3_v2\""
   ]
  },
  {
   "cell_type": "markdown",
   "metadata": {},
   "source": [
    "## 4.1. Get global variables\n",
    "We will read the previously stored variables"
   ]
  },
  {
   "cell_type": "code",
   "execution_count": null,
   "metadata": {},
   "outputs": [],
   "source": [
    "from dotenv import set_key, get_key, find_dotenv\n",
    "envPath = find_dotenv(raise_error_if_not_found=True)\n",
    "\n",
    "resourceLocation = get_key(envPath, \"resourceLocation\")\n",
    "resourceGroupName = get_key(envPath, \"resourceGroupName\")\n",
    "iotEdgeDeviceConnString = get_key(envPath, \"iotEdgeDeviceConnString\")\n",
    "# We will use IoT Edge Device ID also as VM name\n",
    "iotDeviceId = get_key(envPath, \"iotDeviceId\")\n",
    "\n",
    "# We get current username so will use it to create SSH keys for connecting the VM\n",
    "import os\n",
    "userName = os.environ['USER']"
   ]
  },
  {
   "cell_type": "markdown",
   "metadata": {},
   "source": [
    "## 4.2. Create a Virtual Machine\n",
    "With following steps, we will execute a shell script to create an Ubuntu VM in your Azure subscription.  \n",
    "\n",
    "### 4.2.1 Set parameters to be used for creating the Virtual Machine\n",
    "https://docs.microsoft.com/en-us/azure/virtual-machines/windows/quick-create-cli"
   ]
  },
  {
   "cell_type": "code",
   "execution_count": null,
   "metadata": {},
   "outputs": [],
   "source": [
    "# Select VM size per your speed requirements. https://docs.microsoft.com/en-us/azure/virtual-machines/sizes-general \n",
    "dns_name = iotDeviceId\n",
    "public_ip_name = iotDeviceId + 'publicip'\n",
    "vnet_name=iotDeviceId + 'vnet'\n",
    "subnet_name=iotDeviceId + 'subnet'\n",
    "vnet_prefix=\"192.168.0.0/16\"\n",
    "subnet_name=\"FrontEnd\"\n",
    "subnet_prefix=\"192.168.1.0/24\"\n",
    "nsg_name=iotDeviceId + 'nsg'\n",
    "nic_name=iotDeviceId + 'nic'\n",
    "\n",
    "# Static DNS name of the VM.\n",
    "vm_dns_name= iotDeviceId + \".\" + resourceLocation + \".cloudapp.azure.com\""
   ]
  },
  {
   "cell_type": "code",
   "execution_count": null,
   "metadata": {},
   "outputs": [],
   "source": [
    "%%bash --out output -s \"$iotDeviceId\" \"$userName\" \"$vm_dns_name\"\n",
    "\n",
    "# -----------------------\n",
    "# Create SSH Keys - !!! DONT RUN THIS CELL IN CASE YOU ALREADY CREATED THE VM. IT WILL RESET THE PUBLIC KEYS!!!\n",
    "# -----------------------\n",
    "# Create public/private ssh keys.\n",
    "yes y | ssh-keygen -b 2048 -t rsa -f ~/.ssh/$1\"_id_rsa\" -C $2@$3 -q -N '' >/dev/null\n",
    "\n",
    "# Remove prev. trusted host with same name (IP may be changed)\n",
    "if [ -e ~/.ssh/known_hosts ]; then\n",
    "ssh-keygen -f ~/.ssh/known_hosts -R $3\n",
    "fi"
   ]
  },
  {
   "cell_type": "code",
   "execution_count": null,
   "metadata": {},
   "outputs": [],
   "source": [
    "%%bash -s \"$resourceGroupName\" \"$resourceLocation\" \"$public_ip_name\" \"$dns_name\" \"$vnet_name\" \"$vnet_prefix\" \"$subnet_name\" \"$subnet_prefix\" \"$nsg_name\" \"$nic_name\" \"$iotDeviceId\" \"$vm_size\"\n",
    "\n",
    "# Create resource group\n",
    "az group create                                                                             \\\n",
    "    --name \"$1\"                                                                             \\\n",
    "    --location \"$2\"\n",
    "\n",
    "# Create a public IP address resource with a static IP address\n",
    "az network public-ip create                                                                 \\\n",
    "   --name \"$3\"                                                                              \\\n",
    "   --resource-group \"$1\"                                                                    \\\n",
    "   --location \"$2\"                                                                          \\\n",
    "   --allocation-method Static                                                               \\\n",
    "   --dns-name \"$4\"                                                                                   \n",
    "\n",
    "# Create a virtual network with one subnet\n",
    "az network vnet create                                                                      \\\n",
    "   --name \"$5\"                                                                              \\\n",
    "   --resource-group \"$1\"                                                                    \\\n",
    "   --location \"$2\"                                                                          \\\n",
    "   --address-prefix \"$6\"                                                                    \\\n",
    "   --subnet-name \"$7\"                                                                       \\\n",
    "   --subnet-prefix \"$8\"                                                                         \n",
    "\n",
    "\n",
    "az network nsg create                                                                       \\\n",
    "   --name \"$9\"                                                                              \\\n",
    "   --resource-group \"$1\"                                                                  \n",
    "\n",
    "# Open SSH port\n",
    "az network nsg rule create                                                                  \\\n",
    "   --resource-group \"$1\"                                                                    \\\n",
    "   --nsg-name \"$9\"                                                                          \\\n",
    "   --name \"Default SSH\"                                                                     \\\n",
    "   --destination-port-ranges 22                                                             \\\n",
    "   --protocol Tcp                                                                           \\\n",
    "   --access Allow                                                                           \\\n",
    "   --priority 1020\n",
    "\n",
    "# Create a network interface connected to the VNet with a static private IP address \n",
    "# and associate the public IP address resource to the NIC.\n",
    "az network nic create                                                                       \\\n",
    "   --name \"${10}\"                                                                           \\\n",
    "   --resource-group \"$1\"                                                                    \\\n",
    "   --location \"$2\"                                                                          \\\n",
    "   --subnet \"$7\"                                                                            \\\n",
    "   --vnet-name \"$5\"                                                                         \\\n",
    "   --public-ip-address \"$3\"                                                                 \\\n",
    "   --network-security-group \"$9\"                                                                     \n",
    "\n",
    "# Create the VM\n",
    "# For image param: Ubuntu 16.04-LTS image -> https://docs.microsoft.com/en-us/azure/virtual-machines/linux/cli-ps-findimage\n",
    "# Instead of Password login, we are uploading Private SSH key. Update the path accrodingly if needed\n",
    "az vm create                                                                                \\\n",
    "   --name \"${11}\"                                                                           \\\n",
    "   --resource-group \"$1\"                                                                    \\\n",
    "   --location \"$2\"                                                                          \\\n",
    "   --storage-sku Standard_LRS                                                               \\\n",
    "   --os-disk-name \"${11}\"\"_osdisk\"                                                          \\\n",
    "   --image \"Canonical:UbuntuServer:18.04-LTS:latest\"                                        \\\n",
    "   --size \"${12}\"                                                                           \\\n",
    "   --nics \"${10}\"                                                                           \\\n",
    "   --authentication-type ssh                                                                \\\n",
    "   --ssh-key-value \"$(< ~/.ssh/\"${11}\"_id_rsa.pub)\""
   ]
  },
  {
   "cell_type": "code",
   "execution_count": null,
   "metadata": {},
   "outputs": [],
   "source": [
    "%%bash -s \"$iotDeviceId\" \"$userName\" \"$vm_dns_name\"\n",
    "\n",
    "# Install ssh keys to remote machine\n",
    "ssh -i ~/.ssh/$1\"_id_rsa\" -o \"StrictHostKeyChecking no\" $2@$3 \"echo 'SSH key transferred.'\""
   ]
  },
  {
   "cell_type": "markdown",
   "metadata": {},
   "source": [
    "### Restart the VM"
   ]
  },
  {
   "cell_type": "code",
   "execution_count": null,
   "metadata": {},
   "outputs": [],
   "source": [
    "%%bash  -s \"$iotDeviceId\" \"$userName\" \"$vm_dns_name\"\n",
    "ssh -i ~/.ssh/$1\"_id_rsa\" $2@$3 << EOF\n",
    "sudo -b bash -c 'sleep 5; reboot' &>/dev/null;\n",
    "EOF"
   ]
  },
  {
   "cell_type": "markdown",
   "metadata": {},
   "source": [
    "### Print out the SSH connection string for this VM"
   ]
  },
  {
   "cell_type": "code",
   "execution_count": null,
   "metadata": {},
   "outputs": [],
   "source": [
    "%%bash --out sshstring\n",
    "\n",
    "# If needed, use the output command to SSH into the VM\n",
    "echo ssh -i ~/.ssh/$iotDeviceId\"_id_rsa\" $userName@$vm_dns_name"
   ]
  },
  {
   "cell_type": "code",
   "execution_count": null,
   "metadata": {},
   "outputs": [],
   "source": [
    "# save the ssh conn string into .env file\n",
    "from dotenv import set_key, get_key, find_dotenv\n",
    "envPath = find_dotenv(raise_error_if_not_found=True)\n",
    "\n",
    "set_key(envPath, \"sshstring\", sshstringsshstring)"
   ]
  }
 ],
 "metadata": {
  "language_info": {
   "codemirror_mode": {
    "name": "ipython",
    "version": 3
   },
   "file_extension": ".py",
   "mimetype": "text/x-python",
   "name": "python",
   "nbconvert_exporter": "python",
   "pygments_lexer": "ipython3",
   "version": "3.7.5-final"
  },
  "orig_nbformat": 2,
  "kernelspec": {
   "name": "python37564bite37f1f7c66284c3881d2c0f5158d06d4",
   "display_name": "Python 3.7.5 64-bit"
  }
 },
 "nbformat": 4,
 "nbformat_minor": 2
}