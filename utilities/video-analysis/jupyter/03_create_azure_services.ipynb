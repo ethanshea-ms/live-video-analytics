{
 "cells": [
  {
   "cell_type": "markdown",
   "metadata": {
    "collapsed": true
   },
   "source": [
    "# 3. Create Required Azure Services\n",
    "Before starting this section, make sure you have set up the global variables as shown in the previous section [02_setup_environment.ipynb](02_setup_environment.ipynb). Once your global variables have been set up, you no longer have to set them up again, as they are stored in a .env environment file. \n",
    "\n",
    "If you delete your .env file or your Azure login session expires, you may need to re-run the setup process. Keep this in mind when proceeding onto the other sections in this sample."
   ]
  },
  {
   "cell_type": "markdown",
   "metadata": {},
   "source": [
    "## 3.1. Get Global Variables\n",
    "First, we will read the previously stored global variables."
   ]
  },
  {
   "cell_type": "code",
   "execution_count": null,
   "metadata": {},
   "outputs": [],
   "source": [
    "from dotenv import set_key, get_key, find_dotenv\n",
    "envPath = find_dotenv(raise_error_if_not_found=True)\n",
    "\n",
    "azureSubsctiptionId = get_key(envPath, \"azureSubsctiptionId\")\n",
    "resourceLocation = get_key(envPath, \"resourceLocation\")\n",
    "resourceGroupName = get_key(envPath, \"resourceGroupName\")\n",
    "acrServiceName = get_key(envPath, \"acrServiceName\")\n",
    "iotHubServiceName = get_key(envPath, \"iotHubServiceName\")\n",
    "iotDeviceId = get_key(envPath, \"iotDeviceId\")\n",
    "mediaServiceName = get_key(envPath, \"mediaServiceName\")\n",
    "storageServiceName = get_key(envPath, \"storageServiceName\")"
   ]
  },
  {
   "cell_type": "markdown",
   "metadata": {},
   "source": [
    "## 3.2. Create Resource Group\n",
    "We will now create a new Azure resource group using the resource group name and location set in the previous section [02_setup_environment.ipynb](02_setup_environment.ipynb). Check that this name is present in the .env file, as this name will be auto-filled into the placeholders starting with the character \"$\". "
   ]
  },
  {
   "cell_type": "code",
   "execution_count": null,
   "metadata": {},
   "outputs": [],
   "source": [
    "!az group create --name $resourceGroupName --location  $resourceLocation"
   ]
  },
  {
   "cell_type": "markdown",
   "metadata": {},
   "source": [
    "## 3.3. Create Azure Container Registry Service\n",
    "We will use Azure Container Registry (ACR) to store our module images. Again, the placeholders starting with the character \"$\" will be auto-filled with the values we stored in the .env file."
   ]
  },
  {
   "cell_type": "code",
   "execution_count": null,
   "metadata": {},
   "outputs": [],
   "source": [
    "!az acr create --name $acrServiceName --resource-group $resourceGroupName --location $resourceLocation --sku Basic --admin-enabled true"
   ]
  },
  {
   "cell_type": "markdown",
   "metadata": {},
   "source": [
    "> <span style=\"color:red; font-weight: bold\"> [!WARNING] </span>  \n",
    "> Even if the cell above finishes executing, it may take several seconds to minutes to have the changes reflected on Azure Datacenter. Thus, wait a bit before proceeding to the next cell to avoid running into errors."
   ]
  },
  {
   "cell_type": "markdown",
   "metadata": {},
   "source": [
    "### 3.3.1. Get Access Credentials from ACR\n",
    "After the ACR resource has been generated, we can grab the access credentials from ACR by running the following code snippets."
   ]
  },
  {
   "cell_type": "code",
   "execution_count": null,
   "metadata": {},
   "outputs": [],
   "source": [
    "%%bash --out output -s \"$acrServiceName\"\n",
    "az acr credential show -n $1"
   ]
  },
  {
   "cell_type": "code",
   "execution_count": null,
   "metadata": {},
   "outputs": [],
   "source": [
    "import json\n",
    "jsonRegDetails = json.loads(output)\n",
    "\n",
    "acrUserName = jsonRegDetails['username']\n",
    "acrPassword = jsonRegDetails['passwords'][0]['value']"
   ]
  },
  {
   "cell_type": "markdown",
   "metadata": {},
   "source": [
    "Save these ACR credentials for future use by storing them in the .env file."
   ]
  },
  {
   "cell_type": "code",
   "execution_count": null,
   "metadata": {},
   "outputs": [],
   "source": [
    "set_key(envPath, \"acrUserName\", acrUserName)\n",
    "set_key(envPath, \"acrPassword\", acrPassword)\n",
    "set_key(envPath, \"acrServiceFullName\", acrServiceName+\".azurecr.io\")"
   ]
  },
  {
   "cell_type": "markdown",
   "metadata": {},
   "source": [
    "## 3.4. Create Azure IoT Hub\n",
    "Next, we will create an Azure IoT Hub.\n",
    "> <span style=\"color:red; font-weight: bold\"> [!WARNING] </span>  \n",
    "> Running the code snippet below may yield the following error: \"IotHub name '<NAME\\>' is not available\". This error appears if the service already exists. If you see the error, skip the step, as you have likely created the resource already.\n"
   ]
  },
  {
   "cell_type": "code",
   "execution_count": null,
   "metadata": {},
   "outputs": [],
   "source": [
    "!az iot hub create --name $iotHubServiceName --resource-group $resourceGroupName --location $resourceLocation --sku S1"
   ]
  },
  {
   "cell_type": "markdown",
   "metadata": {},
   "source": [
    "Save these Azure IoT Hub connection string for future use by storing it in the .env file. This string is used to identify the hub."
   ]
  },
  {
   "cell_type": "code",
   "execution_count": null,
   "metadata": {},
   "outputs": [],
   "source": [
    "%%bash --out iotHubConnString -s \"$resourceGroupName\" \"$iotHubServiceName\"\n",
    "\n",
    "az iot hub show-connection-string --hub-name $2 --output tsv"
   ]
  },
  {
   "cell_type": "code",
   "execution_count": null,
   "metadata": {},
   "outputs": [],
   "source": [
    "set_key(envPath, \"iotHubConnString\", iotHubConnString.rstrip())"
   ]
  },
  {
   "cell_type": "markdown",
   "metadata": {},
   "source": [
    "## 3.5. Create IoT Edge Device Identity\n",
    "To run LVA on the Edge, we will need to create an IoT Edge device to run our modules with AI capability. In the code below, we will instruct Azure IoT Hub to create a resource framework for this cloud-based IoT Edge device."
   ]
  },
  {
   "cell_type": "code",
   "execution_count": null,
   "metadata": {},
   "outputs": [],
   "source": [
    "# Install iot hub CLI extensions\n",
    "!az extension add --name azure-cli-iot-ext"
   ]
  },
  {
   "cell_type": "markdown",
   "metadata": {},
   "source": [
    "If we want to connect/match physical devices to this cloud-based Edge device later, the connection will be set using the IoT Edge device's connection string. Everything in this cloud-based Edge device will be cloned into the physical device, including all the IoT Edge modules. Thus, we will also be printing out and saving the cloud-based IoT Edge device's connection string for future use."
   ]
  },
  {
   "cell_type": "code",
   "execution_count": null,
   "metadata": {},
   "outputs": [],
   "source": [
    "%%bash --out iotEdgeDeviceConnString -s \"$resourceGroupName\" \"$iotHubServiceName\" \"$iotDeviceId\"\n",
    "# Create edge device if not already exists\n",
    "az iot hub device-identity show --resource-group $1 --hub-name $2 --device-id $3 &> /dev/null\n",
    "\n",
    "if [ $? -ne 0 ]; then\n",
    "    az iot hub device-identity create --hub-name $2 --device-id $3 --edge-enabled &> /dev/null\n",
    "fi\n",
    "\n",
    "az iot hub device-identity show-connection-string --hub-name $2 --device-id $3 --output tsv"
   ]
  },
  {
   "cell_type": "code",
   "execution_count": null,
   "metadata": {},
   "outputs": [],
   "source": [
    "set_key(envPath, \"iotEdgeDeviceConnString\", iotEdgeDeviceConnString.rstrip())"
   ]
  },
  {
   "cell_type": "code",
   "execution_count": null,
   "metadata": {},
   "outputs": [],
   "source": [
    "# Print out IoT Edge Device deteails and store its connection string...\n",
    "print('Azure IoT Hub Name: {}'.format(iotHubServiceName))\n",
    "print('Azure IoT device id : {}'.format(iotDeviceId))\n",
    "print('IoT Edge Device Connection String: {}'.format(iotEdgeDeviceConnString))\n",
    "print('IoT Hub Connection String: {}'.format(iotHubConnString))"
   ]
  },
  {
   "cell_type": "markdown",
   "metadata": {},
   "source": [
    "## 3.6. Create Azure Storage Services\n",
    "To store assets onto Azure Media Services, we must also create a storage resource."
   ]
  },
  {
   "cell_type": "code",
   "execution_count": null,
   "metadata": {},
   "outputs": [],
   "source": [
    "!az storage account create --name $storageServiceName --resource-group $resourceGroupName --location $resourceLocation --sku Standard_LRS"
   ]
  },
  {
   "cell_type": "markdown",
   "metadata": {},
   "source": [
    "## 3.7. Create Azure Media Services\n",
    "\n",
    "Azure Media Services (AMS) is a cloud-based media workflow platform to index, package, protect, and stream video. For this sample, we will be using AMS to archive video clips (Edge streams) generated when our AI module detects motion."
   ]
  },
  {
   "cell_type": "code",
   "execution_count": null,
   "metadata": {},
   "outputs": [],
   "source": [
    "!az ams account create --name $mediaServiceName --resource-group $resourceGroupName --storage-account $storageServiceName --location $resourceLocation"
   ]
  },
  {
   "cell_type": "markdown",
   "metadata": {},
   "source": [
    "## 3.8. Create Azure Service Principal\n",
    "A service principal is a security identity used by user-created apps, services, and tools to access Azure resources. Like with the other resources created thus far, we will be creating a service principal and storing the credentials (AAD_TENANT_ID, AAD_SERVICE_PRINCIPAL_ID, and AAD_SERVICE_PRINCIPAL_SECRET) in the .env file. \n"
   ]
  },
  {
   "cell_type": "code",
   "execution_count": null,
   "metadata": {},
   "outputs": [],
   "source": [
    "%%bash --out output -s \"$mediaServiceName\" \"$resourceGroupName\" \n",
    "\n",
    "az ams account sp create --account-name $1 --resource-group $2 --name lvasp$2 --output json\n",
    "\n",
    "if [ $? -ne 0 ]; then\n",
    "    az ams account sp reset-credentials --account-name $1 --resource-group lvasp$2 --name $2 --output json\n",
    "fi"
   ]
  },
  {
   "cell_type": "code",
   "execution_count": null,
   "metadata": {},
   "outputs": [],
   "source": [
    "import json\n",
    "\n",
    "amssp = json.loads(output)\n",
    "\n",
    "aadTenantId = amssp['AadTenantId']\n",
    "aadServicePrincipalId = amssp['AadClientId']\n",
    "aadServicePrincipalSecret = amssp['AadSecret']\n",
    "\n",
    "set_key(envPath, \"aadTenantId\", aadTenantId)\n",
    "set_key(envPath, \"aadServicePrincipalId\", aadServicePrincipalId)\n",
    "set_key(envPath, \"aadServicePrincipalSecret\", aadServicePrincipalSecret)"
   ]
  }
 ],
 "metadata": {
  "kernelspec": {
   "display_name": "Python 3",
   "language": "python",
   "name": "python3"
  },
  "language_info": {
   "codemirror_mode": {
    "name": "ipython",
    "version": 3
   },
   "file_extension": ".py",
   "mimetype": "text/x-python",
   "name": "python",
   "nbconvert_exporter": "python",
   "pygments_lexer": "ipython3",
   "version": "3.8.3"
  }
 },
 "nbformat": 4,
 "nbformat_minor": 2
}