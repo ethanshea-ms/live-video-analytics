{
  "cells": [
    {
      "metadata": {
        "collapsed": true
      },
      "cell_type": "markdown",
      "source": [
        "# 7. Upload Inference Server Container to Azure Container Registry\n",
        "\n",
        "This section assumes that you have the following set up:  \n",
        "* Azure Container Registry (ACR) service and its details (acrUserName, acrPassword and acrServiceFullName) are in .env file.\n",
        "* Inference Server container image created from a Dockerfile, and its name is the same as the \"containerImageName\" key value in the .env file.\n",
        "\n",
        "If you are using custom values for your container image or container registry, you should update the code below accordingly."
      ]
    },
    {
      "metadata": {},
      "cell_type": "markdown",
      "source": [
        "## 7.1. Get Global Variables"
      ]
    },
    {
      "metadata": {
        "trusted": true
      },
      "cell_type": "code",
      "source": [
        "from env_variables import *"
      ],
      "execution_count": null,
      "outputs": []
    },
    {
      "cell_type": "markdown",
      "metadata": {},
      "source": [
        "## 7.2. Upload Container Image into Azure Container Registry\n",
        "The code below will push the inference server container image into [Azure Container Registry](https://docs.microsoft.com/en-us/azure/container-registry/container-registry-get-started-docker-cli), a cloud-based container registry. ACR and container image details will be retreived from the .env file.  \n",
        "\n",
        "\n",
        "> <span>[!NOTE]</span>\n",
        "> Execution of the below command may take several minutes."
      ]
    },
    {
      "cell_type": "code",
      "execution_count": null,
      "metadata": {},
      "outputs": [],
      "source": [
        "!docker login --username $acrUserName --password $acrPassword  $acrServiceFullName"
      ]
    },
    {
      "cell_type": "code",
      "execution_count": null,
      "metadata": {},
      "outputs": [],
      "source": [
        "!docker tag $containerImageName $acrServiceFullName/$containerImageName"
      ]
    },
    {
      "cell_type": "code",
      "execution_count": null,
      "metadata": {},
      "outputs": [],
      "source": [
        "!docker push $acrServiceFullName/$containerImageName"
      ]
    },
    {
      "cell_type": "markdown",
      "metadata": {},
      "source": [
        "## 7.3. Next Steps\n",
        "If all the code cells above have successfully finished running, return to the Readme page to continue.   "
      ]
    }
  ],
  "metadata": {
    "kernelspec": {
      "name": "python37564bitfed4d054069440b79ed87bd1be182412",
      "display_name": "Python 3.7.5 64-bit",
      "language": "python"
    },
    "language_info": {
      "mimetype": "text/x-python",
      "nbconvert_exporter": "python",
      "name": "python",
      "pygments_lexer": "ipython3",
      "version": "3.7.5-final",
      "file_extension": ".py",
      "codemirror_mode": {
        "version": 3,
        "name": "ipython"
      }
    }
  },
  "nbformat": 4,
  "nbformat_minor": 2
}