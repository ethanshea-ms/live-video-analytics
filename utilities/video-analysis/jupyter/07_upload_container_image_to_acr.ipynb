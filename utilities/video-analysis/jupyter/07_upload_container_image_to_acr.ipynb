{
  "cells": [
    {
      "metadata": {
        "collapsed": true
      },
      "cell_type": "markdown",
      "source": [
        "# 7. Upload Inference Server Container to Azure Container Registry\n",
        "\n",
        "This section assumes that you have the following set up:  \n",
        "* Azure Container Registry (ACR) service and its details (acrUserName, acrPassword and acrServiceFullName) are in .env file.\n",
        "* Inference Server container image created from a Dockerfile, and its name is the same as the \"containerImageName\" key value in the .env file.\n",
        "\n",
        "If you are using custom values for your container image or container registry, you should update the code below accordingly."
      ]
    },
    {
      "metadata": {},
      "cell_type": "markdown",
      "source": [
        "## 7.1. Get Global Variables\n",
        "First, read the previously stored variables."
      ]
    },
    {
      "metadata": {
        "trusted": true
      },
      "cell_type": "code",
      "source": [
        "from dotenv import set_key, get_key, find_dotenv\n",
        "envPath = find_dotenv(raise_error_if_not_found=True)\n",
        "\n",
        "containerImageName = get_key(envPath, \"containerImageName\")\n",
        "acrServiceFullName = get_key(envPath, \"acrServiceFullName\")\n",
        "acrServiceName = get_key(envPath, \"acrServiceName\")\n",
        "acrUserName = get_key(envPath, \"acrUserName\")\n",
        "acrPassword = get_key(envPath, \"acrPassword\")"
      ],
      "execution_count": null,
      "outputs": []
    },
    {
      "cell_type": "markdown",
      "metadata": {},
      "source": [
        "## 7.2. Upload Container Image into Azure Container Registry\n",
        "The code below will push the inference server container image into [Azure Container Registry](https://docs.microsoft.com/en-us/azure/container-registry/container-registry-get-started-docker-cli), a cloud-based container registry. ACR and container image details will be retreived from the .env file.  \n",
        "\n",
        "\n",
        "> [!NOTE]\n",
        "> Execution of the below command may take several minutes."
      ]
    },
    {
      "cell_type": "code",
      "execution_count": null,
      "metadata": {},
      "outputs": [],
      "source": [
        "!docker login --username $acrUserName --password $acrPassword  $acrServiceFullName"
      ]
    },
    {
      "cell_type": "code",
      "execution_count": null,
      "metadata": {},
      "outputs": [],
      "source": [
        "!docker tag $containerImageName $acrServiceFullName/$containerImageName"
      ]
    },
    {
      "cell_type": "code",
      "execution_count": null,
      "metadata": {},
      "outputs": [],
      "source": [
        "!docker push $acrServiceFullName/$containerImageName"
      ]
    }
  ],
  "metadata": {
    "kernelspec": {
      "name": "python37564bitfed4d054069440b79ed87bd1be182412",
      "display_name": "Python 3.7.5 64-bit",
      "language": "python"
    },
    "language_info": {
      "mimetype": "text/x-python",
      "nbconvert_exporter": "python",
      "name": "python",
      "pygments_lexer": "ipython3",
      "version": "3.7.5-final",
      "file_extension": ".py",
      "codemirror_mode": {
        "version": 3,
        "name": "ipython"
      }
    }
  },
  "nbformat": 4,
  "nbformat_minor": 2
}