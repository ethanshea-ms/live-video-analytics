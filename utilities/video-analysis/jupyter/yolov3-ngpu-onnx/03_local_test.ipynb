{
 "cells": [
  {
   "cell_type": "markdown",
   "metadata": {},
   "source": [
    "# 3. Local Test\n",
    "Uploading the docker image might be a long process. So before upload, it is better to test your image to see if it works fine.\n",
    "\n",
    "Below line runs our docker container by mapping the host PC's port 5001"
   ]
  },
  {
   "cell_type": "code",
   "execution_count": null,
   "metadata": {},
   "outputs": [],
   "source": [
    "from dotenv import set_key, get_key, find_dotenv\n",
    "envPath = find_dotenv(raise_error_if_not_found=True)\n",
    "\n",
    "containerImageName = get_key(envPath, \"containerImageName\")"
   ]
  },
  {
   "cell_type": "code",
   "execution_count": null,
   "metadata": {},
   "outputs": [],
   "source": [
    "!docker run --name isserver --runtime nvidia  -p 5001:5001 -d  -i $containerImageName:latest"
   ]
  },
  {
   "cell_type": "markdown",
   "metadata": {},
   "source": [
    "Now call the server score endpoint by sending a sample image. !!! Importnat !!!: here the sample image size is 416x416 pixels (and must be as is, as expained in previous section). Result of the below code should be a json data with inference result like:\n",
    "\n",
    "```\n",
    "{\n",
    "  \"inferences\": [\n",
    "    {\n",
    "      \"type\": \"entity\",\n",
    "      \"entity\": {\n",
    "        \"tag\": {\n",
    "          \"value\": \"person\",\n",
    "          \"confidence\": \"0.97429174\"\n",
    "        },\n",
    "        \"box\": {\n",
    "          \"l\": \"0.717136969933143\",\n",
    "          \"t\": \"0.11114667012141301\",\n",
    "          \"w\": \"0.04447672917292668\",\n",
    "          \"h\": \"0.22909890688382661\"\n",
    "        }\n",
    "      }\n",
    "    },\n",
    "    {\n",
    "      \"type\": \"entity\",\n",
    "      \"entity\": {\n",
    "        \"tag\": {\n",
    "          \"value\": \"person\",\n",
    "          \"confidence\": \"0.9735076\"\n",
    "        },\n",
    "        \"box\": {\n",
    "          \"l\": \"0.6692826197697566\",\n",
    "          \"t\": \"0.11427977451911339\",\n",
    "          \"w\": \"0.04320320716271034\",\n",
    "          \"h\": \"0.24142921887911284\"\n",
    "        }\n",
    "      }\n",
    "    },\n",
    "    {\n",
    "      \"type\": \"entity\",\n",
    "      \"entity\": {\n",
    "        \"tag\": {\n",
    "          \"value\": \"car\",\n",
    "          \"confidence\": \"0.9951142\"\n",
    "        },\n",
    "        \"box\": {\n",
    "          \"l\": \"0.5312079649705154\",\n",
    "          \"t\": \"0.4055887002211351\",\n",
    "          \"w\": \"0.23093663729154146\",\n",
    "          \"h\": \"0.2307723485506498\"\n",
    "        }\n",
    "      }\n",
    "    },\n",
    "    {\n",
    "      \"type\": \"entity\",\n",
    "      \"entity\": {\n",
    "        \"tag\": {\n",
    "          \"value\": \"car\",\n",
    "          \"confidence\": \"0.9914187\"\n",
    "        },\n",
    "        \"box\": {\n",
    "          \"l\": \"0.38438929044283354\",\n",
    "          \"t\": \"0.7749319076538086\",\n",
    "          \"w\": \"0.28147242619441104\",\n",
    "          \"h\": \"0.22948705233060396\"\n",
    "        }\n",
    "      }\n",
    "    }\n",
    "  ]\n",
    "}\n",
    "```\n"
   ]
  },
  {
   "cell_type": "code",
   "execution_count": null,
   "metadata": {},
   "outputs": [],
   "source": [
    "!curl -X POST http://127.0.0.1:5001/score -H \"Content-Type: image/jpeg\" --data-binary @../documents/sample.jpg "
   ]
  },
  {
   "cell_type": "markdown",
   "metadata": {},
   "source": [
    "And finally stop the running container and deallocate the resources"
   ]
  },
  {
   "cell_type": "code",
   "execution_count": null,
   "metadata": {},
   "outputs": [],
   "source": [
    "!docker stop isserver\n",
    "!docker rm isserver"
   ]
  }
 ],
 "metadata": {
  "language_info": {
   "codemirror_mode": {
    "name": "ipython",
    "version": 3
   },
   "file_extension": ".py",
   "mimetype": "text/x-python",
   "name": "python",
   "nbconvert_exporter": "python",
   "pygments_lexer": "ipython3",
   "version": "3.7.5-final"
  },
  "orig_nbformat": 2,
  "kernelspec": {
   "name": "python37564bit48778587bdfe4116b67b8e502a7fccd9",
   "display_name": "Python 3.7.5 64-bit"
  }
 },
 "nbformat": 4,
 "nbformat_minor": 2
}