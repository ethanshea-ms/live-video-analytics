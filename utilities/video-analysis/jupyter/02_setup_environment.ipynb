{
 "cells": [
  {
   "cell_type": "markdown",
   "metadata": {
    "collapsed": true
   },
   "source": [
    "# 2. Setting Up the Deployment/Test Environment\n"
   ]
  },
  {
   "cell_type": "markdown",
   "metadata": {},
   "source": [
    "## 2.1. Set Up Global Variables\n",
    "\n",
    "Change the resourceGroupName variable to a globally unique value that is no longer than 5 characters in length. We will later append sample-specific descriptive suffixes to this name, so we want to avoid name length-related restrictions.\n",
    "\n",
    "To learn more about naming conventions, follow the links below:  \n",
    "- [Naming rules and restrictions for Azure resources](https://docs.microsoft.com/en-us/azure/azure-resource-manager/management/resource-name-rules)  \n",
    "- [Create a unique name for a resource](https://docs.microsoft.com/en-us/azure/azure-resource-manager/templates/template-functions-string#uniquestring)  "
   ]
  },
  {
   "cell_type": "code",
   "execution_count": 1,
   "metadata": {},
   "outputs": [],
   "source": [
    "# First, we will create a random name to append our Azure resource names. The name is not guaranteed to be unique, but doing this will increase the chances of generating a unique name. If the code snippet returns an error such as \"resource name already exist\", you should re-generate new name values.\n",
    "import uuid \n",
    "nearlyUniqueName = uuid.uuid4().hex[:6].lower()"
   ]
  },
  {
   "cell_type": "code",
   "execution_count": null,
   "metadata": {},
   "outputs": [],
   "source": [
    "# Mandatory settings section\n",
    "# ---------------------------\n",
    "\n",
    "# Define the ID of the Azure subscription that will be used\n",
    "# You can find your subscription ID at https://account.azure.com/subscriptions\n",
    "azureSubsctiptionId = \"<YOUR_AZURE_SUBSCRIPTION_ID>\"\n",
    "\n",
    "# Define the datacenter location of the Azure services that will be created.\n",
    "# To get the list of possible resource locations, use the following commands on an Azure CLI-enabled terminal window:\n",
    "#          az account list-locations\n",
    "resourceLocation = \"<RESOURCE_LOCATION>\"  # set any other location that is close to you i.e. \"westus2\", \"southcentralus\"\n",
    "\n",
    "# Define the name of the resource group you will use to contain all of the Azure services that will be created.\n",
    "# Please use a globally unique resource group name that is less than six characters; other resource names will be appended \n",
    "resourceGroupName = \"<RESOURCE_GROUP_NAME>\" # i.e. \"mk001\"\n",
    "resourceGroupName = \"lvasample\" + nearlyUniqueName\n",
    "\n",
    "# Optional settings section\n",
    "# ---------------------------\n",
    "\n",
    "# Azure Container Registry service to host your Docker container images\n",
    "acrServiceName = resourceGroupName+'contreg'\n",
    "\n",
    "# Azure IoT Hub service\n",
    "iotHubServiceName = resourceGroupName+'iothub'\n",
    "\n",
    "# Name of the container image for ML solution\n",
    "containerImageName = resourceGroupName+'aimodule'\n",
    "\n",
    "# Define a unique IoT Edge device ID\n",
    "iotDeviceId = resourceGroupName+'iotdevid'\n",
    "\n",
    "# Azure Media services\n",
    "mediaServiceName = resourceGroupName+'ams'\n",
    "\n",
    "# Azure Storage services\n",
    "storageServiceName = resourceGroupName+'storage'\n",
    "\n",
    "# Define a folder name that will be the host to all your ML solution files\n",
    "isSolutionPath = \"inferenceserver\""
   ]
  },
  {
   "cell_type": "markdown",
   "metadata": {},
   "source": [
    "## 2.2. Check Azure CLI Version\n",
    "Azure CLI is required to run this sample. Please check if Azure CLI has been installed on your machine. If it has not, then visit the [requirements for running LVA on Jupyter](/utilities/video-analysis/jupyter/01_requirements.md) page. "
   ]
  },
  {
   "cell_type": "code",
   "execution_count": null,
   "metadata": {},
   "outputs": [],
   "source": [
    "!az --version"
   ]
  },
  {
   "cell_type": "markdown",
   "metadata": {},
   "source": [
    "## 2.3. Login to Azure\n",
    "> <span style=\"color:red; font-weight:bold\"> [!IMPORTANT] </span>  \n",
    "> Run the following command and **follow the instructions** in the corresponding output cell. You should enter the authentication code to allow this notebook kernel to access Azure resources. You can run the `az logout` command or stop the kernel to logout.\n",
    "\n",
    "> [!NOTE]  \n",
    "> The following commands should work as expected on machines running Ubuntu 18.04 and MacOS. If you are using a machine running Windows, you can try either of the following solutions (as mentioned previously in the Requirements section):\n",
    "> <br><br>Option 1: Install [Git Bash](https://git-scm.com/downloads) and [switch the terminal setting in VSCode](https://code.visualstudio.com/docs/editor/integrated-terminal) so that the Bash terminal is used. \n",
    "> <br><br>Option 2: Turn on the [Windows Subsystem for Linux (WSL) setting](https://code.visualstudio.com/remote-tutorials/wsl/enable-wsl). Then, download [Ubuntu 18.04 from the Microsoft store](https://docs.microsoft.com/en-us/windows/wsl/install-win10#install-your-linux-distribution-of-choice) and [switch the terminal setting in VSCode](https://code.visualstudio.com/docs/editor/integrated-terminal) so that the WSL terminal is used."
   ]
  },
  {
   "cell_type": "code",
   "execution_count": null,
   "metadata": {},
   "outputs": [],
   "source": [
    "%%bash --out output\n",
    "az account show &> /dev/null\n",
    "if [ \"$?\" != \"0\" ]; then echo 'login'; fi"
   ]
  },
  {
   "cell_type": "code",
   "execution_count": null,
   "metadata": {},
   "outputs": [],
   "source": [
    "1+1"
   ]
  },
  {
   "cell_type": "code",
   "execution_count": null,
   "metadata": {},
   "outputs": [],
   "source": [
    "if (output != ''):\n",
    "    print('You must sign in to Azure. Please follow the instructions below.')\n",
    "    !az login -o None\n",
    "    output = ''\n",
    "else:\n",
    "    print('There is an active Azure login session exist.')"
   ]
  },
  {
   "cell_type": "markdown",
   "metadata": {},
   "source": [
    "## 2.4. Set Active Azure Subscription\n",
    "In case you have more than one Azure subscription, we will set the one you specified in the **azureSubsctiptionId** variable as the default to be used."
   ]
  },
  {
   "cell_type": "code",
   "execution_count": null,
   "metadata": {},
   "outputs": [],
   "source": [
    "!az account set --subscription $azureSubsctiptionId"
   ]
  },
  {
   "cell_type": "markdown",
   "metadata": {},
   "source": [
    "## 2.5. Install the dotenv Python Library \n",
    "\n",
    "We will now be installing the [dotenv Python library](https://pypi.org/project/python-dotenv/). This library reads the key-value pair from a .env file and adds them to the environment variables. This library is great for managing app settings during development and sharing global variables among code files.\n",
    "\n",
    "> <span style=\"color:red; font-weight: bold;\"> [!IMPORTANT] </span>  \n",
    "> Depending on your version of Python, you may need to switch between `pip` and `pip3`. Check the output of the cell below for possible errors and make the appropriate switch if needed."
   ]
  },
  {
   "cell_type": "code",
   "execution_count": null,
   "metadata": {},
   "outputs": [],
   "source": [
    "%%bash\n",
    "if python3 -c 'import pkgutil; exit(not pkgutil.find_loader(\"dotenv\"))';\n",
    "then\n",
    "\techo \"dotenv package found. Skipping re-installation...\";\n",
    "else\n",
    "\techo \"dotenv package not found. Installing...\";\n",
    "    pip3 install python-dotenv;\n",
    "fi"
   ]
  },
  {
   "cell_type": "markdown",
   "metadata": {},
   "source": [
    "## 2.6. Save Global Variables in .env File\n",
    "Check if a .env file already exist. If not, create a new one. The .env file is where we will store our variables to share with other code books of this sample."
   ]
  },
  {
   "cell_type": "code",
   "execution_count": null,
   "metadata": {},
   "outputs": [],
   "source": [
    "from pathlib import Path\n",
    "from dotenv import set_key, get_key, find_dotenv\n",
    "\n",
    "envPath = find_dotenv()\n",
    "if envPath==\"\":\n",
    "    Path(\".env\").touch()\n",
    "    envPath = find_dotenv()\n",
    "    \n",
    "print(\".env file path: {0}\".format(envPath))"
   ]
  },
  {
   "cell_type": "code",
   "execution_count": null,
   "metadata": {},
   "outputs": [],
   "source": [
    "set_key(envPath, \"nearlyUniqueName\", nearlyUniqueName)\n",
    "set_key(envPath, \"azureSubsctiptionId\", azureSubsctiptionId)\n",
    "set_key(envPath, \"resourceLocation\", resourceLocation)\n",
    "set_key(envPath, \"resourceGroupName\", resourceGroupName)\n",
    "set_key(envPath, \"acrServiceName\", acrServiceName)\n",
    "set_key(envPath, \"containerImageName\", containerImageName)\n",
    "set_key(envPath, \"iotHubServiceName\", iotHubServiceName)\n",
    "set_key(envPath, \"iotDeviceId\", iotDeviceId)\n",
    "set_key(envPath, \"mediaServiceName\", mediaServiceName)\n",
    "set_key(envPath, \"storageServiceName\", storageServiceName)\n",
    "set_key(envPath, \"isSolutionPath\", isSolutionPath)"
   ]
  }
 ],
 "metadata": {
  "kernelspec": {
   "display_name": "Python 3",
   "language": "python",
   "name": "python3"
  },
  "language_info": {
   "codemirror_mode": {
    "name": "ipython",
    "version": 3
   },
   "file_extension": ".py",
   "mimetype": "text/x-python",
   "name": "python",
   "nbconvert_exporter": "python",
   "pygments_lexer": "ipython3",
   "version": "3.8.3"
  }
 },
 "nbformat": 4,
 "nbformat_minor": 2
}