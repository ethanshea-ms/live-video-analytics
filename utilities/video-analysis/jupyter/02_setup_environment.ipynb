{
  "cells": [
    {
      "cell_type": "markdown",
      "metadata": {
        "collapsed": true
      },
      "source": [
        "# 2. Setting up Deployment/Test Environment\n"
      ]
    },
    {
      "cell_type": "markdown",
      "metadata": {},
      "source": [
        "## 2.1. Setup global variables to be used in the further steps\n",
        "\n",
        "Please change the resourceGroupName variable to a globally unique value. Keep the length as short as ~5 character length as we append sample specific descriptive suffixes which may result in a long name length restrictions.\n",
        "\n",
        "Here are some details about:  \n",
        "- [Naming rules and restrictions for Azure resources](https://docs.microsoft.com/en-us/azure/azure-resource-manager/management/resource-name-rules)  \n",
        "- [Create a unique name for a resource](https://docs.microsoft.com/en-us/azure/azure-resource-manager/templates/template-functions-string#uniquestring)  "
      ]
    },
    {
      "cell_type": "code",
      "execution_count": null,
      "metadata": {},
      "outputs": [],
      "source": [
        "# Here we create a random name to append our Azure resource names. It is not guarantee to be unique but it will increase the chance of uniquenes. If you will face with any error like \"resource name already exist\", you should re-generate new name values.\n",
        "import uuid \n",
        "nearlyUniqueName = uuid.uuid4().hex[:6].lower()"
      ]
    },
    {
      "cell_type": "code",
      "execution_count": null,
      "metadata": {},
      "outputs": [],
      "source": [
        "# Mandatory settings section\n",
        "# ---------------------------\n",
        "\n",
        "# Define the ID of your Azure subscription to be used\n",
        "# You may learn your subscription ID at https://account.azure.com/subscriptions\n",
        "azureSubsctiptionId = \"<YOUR_AZURE_SUBSCRIPTION_ID>\"\n",
        "\n",
        "# Define Datacenter location of the azure services to be created.\n",
        "# To get the list of possible resource locations use the following commands on an Azure CLI enabled terminal window:\n",
        "#          az account list-locations\n",
        "resourceLocation = \"<RESOURCE_LOCATION>\"  # set any other location that is close to you i.e. \"westus2\", \"southcentralus\"\n",
        "\n",
        "# Name of the resource group that will contain all Azure services to be created\n",
        "# Resource group name will be appended as a prefix to other resource names, so please keep it to be globally unique and less than 6 characters\n",
        "resourceGroupName = \"<RESOURCE_GROUP_NAME>\" # i.e. \"mk001\"\n",
        "resourceGroupName = \"lvasample\" + nearlyUniqueName\n",
        "\n",
        "\n",
        "# Optional settings section\n",
        "# ---------------------------\n",
        "\n",
        "# Container Registry Service to host your docker container images\n",
        "acrServiceName = resourceGroupName+'contreg'\n",
        "\n",
        "# Azure IoT Hub Service\n",
        "iotHubServiceName = resourceGroupName+'iothub'\n",
        "\n",
        "# Name of the container image for ml solution\n",
        "containerImageName = resourceGroupName+'aimodule'\n",
        "\n",
        "# Define a unique IoT Edge device ID\n",
        "iotDeviceId = resourceGroupName+'iotdevid'\n",
        "\n",
        "# Azure Media services\n",
        "mediaServiceName = resourceGroupName+'ams'\n",
        "\n",
        "# Azure Storage services\n",
        "storageServiceName = resourceGroupName+'storage'\n",
        "\n",
        "# Define a folder name that you want to host all your ml solution files\n",
        "isSolutionPath = \"inferenceserver\""
      ]
    },
    {
      "cell_type": "markdown",
      "metadata": {},
      "source": [
        "## 2.2. Check Azure CLI version\n",
        "Azure CLI is required to run this sample. Check if Azure CLI installed.  \n",
        "If Azure CLI is not installed, please follow the installation instructions shown here:  \n",
        "https://docs.microsoft.com/en-us/cli/azure/install-azure-cli-apt?view=azure-cli-latest"
      ]
    },
    {
      "cell_type": "code",
      "execution_count": null,
      "metadata": {},
      "outputs": [],
      "source": [
        "!az --version"
      ]
    },
    {
      "cell_type": "markdown",
      "metadata": {},
      "source": [
        "## 2.3. Login to Azure\n",
        "> <span style=\"color:red; font-weight: bold; font-size:1.5em;\"> [!Important] </span>  \n",
        "Run the following command and <span style=\"color:red; font-weight: bold; font-size:1.1em;\"> follow the instructions </span> in the corresponding output cell. You should enter the authentication code to let this notebook   kernel be able to access Azure resources. You can run \"az logout\" command or stop the kernel to logout."
      ]
    },
    {
      "cell_type": "code",
      "execution_count": null,
      "metadata": {},
      "outputs": [],
      "source": [
        "%%bash --out output\n",
        "az account show &> /dev/null\n",
        "if [ \"$?\" != \"0\" ]; then echo 'login'; fi"
      ]
    },
    {
      "cell_type": "code",
      "execution_count": null,
      "metadata": {},
      "outputs": [],
      "source": [
        "if (output != ''):\n",
        "    print('You must sign in to Azure. Please follow the instructions below.')\n",
        "    !az login -o None\n",
        "    output = ''\n",
        "else:\n",
        "    print('There is an active Azure login session exist.')"
      ]
    },
    {
      "cell_type": "markdown",
      "metadata": {},
      "source": [
        "## 2.4. Set active Azure Subscription\n",
        "You may have more than one subscription and we will set the one you specified in **azureSubsctiptionId** as default one to be used."
      ]
    },
    {
      "cell_type": "code",
      "execution_count": null,
      "metadata": {},
      "outputs": [],
      "source": [
        "!az account set --subscription $azureSubsctiptionId"
      ]
    },
    {
      "cell_type": "markdown",
      "metadata": {},
      "source": [
        "## 2.5. Install dotenv python library to share global variables among code files\n",
        "dot-env library reads the key-value pair from .env file and adds them to environment variable. It is great for managing app settings during development and in production using 12-factor principles.  \n",
        "\n",
        "<span style=\"color:red; font-weight: bold; font-size:1.5em;\"> [!Important] </span>  \n",
        "Depending on your installation you may need to switch between pip and pip3. See cell output below for possible error and make appropriate switch."
      ]
    },
    {
      "cell_type": "code",
      "execution_count": null,
      "metadata": {},
      "outputs": [],
      "source": [
        "%%bash\n",
        "if python3 -c 'import pkgutil; exit(not pkgutil.find_loader(\"dotenv\"))';\n",
        "then\n",
        "\techo \"dotenv package found. Skipping re-installation...\";\n",
        "else\n",
        "\techo \"dotenv package not found. Installing...\";\n",
        "    pip3 install python-dotenv;\n",
        "fi"
      ]
    },
    {
      "cell_type": "markdown",
      "metadata": {},
      "source": [
        "## 2.6. Save global variables in .env file\n",
        "Check if .env file already exist. If not, create a new one.  \n",
        ".env file is the place we will store our variables to share with other code books of this sample.  \n",
        "if you want more details about dotenv python package please refer: https://pypi.org/project/python-dotenv/"
      ]
    },
    {
      "cell_type": "code",
      "execution_count": null,
      "metadata": {},
      "outputs": [],
      "source": [
        "from pathlib import Path\n",
        "from dotenv import set_key, get_key, find_dotenv\n",
        "\n",
        "envPath = find_dotenv()\n",
        "if envPath==\"\":\n",
        "    Path(\".env\").touch()\n",
        "    envPath = find_dotenv()\n",
        "    \n",
        "print(\".env file path: {0}\".format(envPath))"
      ]
    },
    {
      "cell_type": "code",
      "execution_count": null,
      "metadata": {},
      "outputs": [],
      "source": [
        "set_key(envPath, \"nearlyUniqueName\", nearlyUniqueName)\n",
        "set_key(envPath, \"azureSubsctiptionId\", azureSubsctiptionId)\n",
        "set_key(envPath, \"resourceLocation\", resourceLocation)\n",
        "set_key(envPath, \"resourceGroupName\", resourceGroupName)\n",
        "set_key(envPath, \"acrServiceName\", acrServiceName)\n",
        "set_key(envPath, \"containerImageName\", containerImageName)\n",
        "set_key(envPath, \"iotHubServiceName\", iotHubServiceName)\n",
        "set_key(envPath, \"iotDeviceId\", iotDeviceId)\n",
        "set_key(envPath, \"mediaServiceName\", mediaServiceName)\n",
        "set_key(envPath, \"storageServiceName\", storageServiceName)\n",
        "set_key(envPath, \"isSolutionPath\", isSolutionPath)"
      ]
    },
    {
      "cell_type": "code",
      "execution_count": null,
      "metadata": {},
      "outputs": [],
      "source": []
    }
  ],
  "metadata": {
    "kernelspec": {
      "name": "python37564bitfed4d054069440b79ed87bd1be182412",
      "display_name": "Python 3.7.5 64-bit",
      "language": "python"
    },
    "language_info": {
      "mimetype": "text/x-python",
      "nbconvert_exporter": "python",
      "name": "python",
      "pygments_lexer": "ipython3",
      "version": "3.7.5-final",
      "file_extension": ".py",
      "codemirror_mode": {
        "version": 3,
        "name": "ipython"
      }
    }
  },
  "nbformat": 4,
  "nbformat_minor": 2
}