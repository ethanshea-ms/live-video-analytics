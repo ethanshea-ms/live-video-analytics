{
 "nbformat": 4,
 "nbformat_minor": 2,
 "metadata": {
  "language_info": {
   "name": "python",
   "codemirror_mode": {
    "name": "ipython",
    "version": 3
   },
   "version": "3.6.9-final"
  },
  "orig_nbformat": 2,
  "file_extension": ".py",
  "mimetype": "text/x-python",
  "name": "python",
  "npconvert_exporter": "python",
  "pygments_lexer": "ipython3",
  "version": 3,
  "kernelspec": {
   "name": "python3",
   "display_name": "Python 3"
  }
 },
 "cells": [
  {
   "cell_type": "markdown",
   "execution_count": null,
   "metadata": {},
   "outputs": [],
   "source": [
    "## 8. Local test\n",
    "We can test our AI module on the IoT Edge Device. Since our AI module deployed to edge device and listening any requests from port 5001 (which is set in manifest file) we can send some test requests and see the results."
   ]
  },
  {
   "cell_type": "markdown",
   "execution_count": null,
   "metadata": {},
   "outputs": [],
   "source": [
    "Also in a web browser on the IoT Edge device, we can visit the following URL addresses to see the state of our AI module.\n",
    "\n",
    "```\n",
    "http://127.0.0.1:5001/version\n",
    "\n",
    "or\n",
    "\n",
    "http://127.0.0.1:5001/about\n",
    "```"
   ]
  },
  {
   "cell_type": "code",
   "execution_count": null,
   "metadata": {},
   "outputs": [],
   "source": [
    "%%bash\n",
    "# For visualizations, we prefer to use matplotlib library, so installing it\n",
    "if python3 -c 'import pkgutil; exit(not pkgutil.find_loader(\"matplotlib\"))';\n",
    "then\n",
    "\techo \"matplotlib package found. Skipping re-installation...\";\n",
    "else\n",
    "\techo \"matplotlib package not found. Installing...\";\n",
    "    pip3 install matplotlib;\n",
    "fi"
   ]
  },
  {
   "cell_type": "code",
   "execution_count": null,
   "metadata": {},
   "outputs": [],
   "source": [
    "%matplotlib inline\n",
    "import matplotlib.pyplot as plt\n",
    "import matplotlib.patches as patches\n",
    "from PIL import Image\n",
    "import urllib.request\n",
    "import ssl\n",
    "import requests\n",
    "import json\n",
    "import io\n",
    "import os\n",
    "\n",
    "def urlToImage(url):\n",
    "    url = url.replace(os.path.sep, '/')\n",
    "    resp = urllib.request.urlopen(url, context=ssl._create_unverified_context())\n",
    "    image = bytearray(resp.read())\n",
    "    return image\n",
    "\n",
    "sampleImageURI = \"https://live.staticflickr.com/3722/13741438294_401e031949_z.jpg\"\n",
    "sampleImageURI = \"http://www.globaltimes.cn/Portals/0/attachment/2018/2018-12-04/0f255c7b-ab89-47ca-bbc8-917aa8fb767b.jpeg\"\n",
    "sampleImageURI = \"https://3er1viui9wo30pkxh1v2nh4w-wpengine.netdna-ssl.com/wp-content/uploads/2016/05/Microsoft-Logo-2012.jpg\"\n",
    "sampleImageURI = \"https://bicycledutch.files.wordpress.com/2014/05/jodenbreestraat2014.jpg\"\n",
    "\n",
    "scoringURI = \"http://127.0.0.1:5001/score\"\n",
    "\n",
    "imgData = urlToImage(sampleImageURI)\n",
    "headers = {'Content-Type': 'image/jpeg'}\n",
    "apiResponse = requests.post(scoringURI, headers=headers, data=imgData)\n",
    "\n",
    "print(\"Raw API response: {0}\".format(apiResponse.text))\n",
    "\n",
    "# Parse resulting JSon output\n",
    "jsonResult = json.loads(apiResponse.text)\n",
    "\n",
    "print(\"Status: {0}\".format(jsonResult[\"status\"]))\n",
    "print(\"Inference Time: {0} ms\".format(jsonResult[\"time\"]))\n",
    "print(\"Detected object count: {0}\".format(jsonResult[\"object_count\"]))\n",
    "\n",
    "plt.figure()\n",
    "fig, ax = plt.subplots(1, figsize=(12,9))\n",
    "ax.imshow(Image.open(io.BytesIO(imgData)))\n",
    "\n",
    "statusCode = int(jsonResult[\"status\"])\n",
    "if statusCode > 0:\n",
    "    print(\"Status Code: {0}\".format(statusCode))\n",
    "    exit\n",
    "\n",
    "jsonResult = jsonResult[\"result\"]\n",
    "print(\"Detected objects:\")\n",
    "for k in jsonResult:\n",
    "    print(k, \"->\", jsonResult[k])\n",
    "    detRes = jsonResult[k]\n",
    "\n",
    "    xmin = float(detRes[\"xmin\"])\n",
    "    ymin = float(detRes[\"ymin\"])\n",
    "    xmax = float(detRes[\"xmax\"])\n",
    "    ymax = float(detRes[\"ymax\"])\n",
    "    labelId = int(detRes[\"label\"])\n",
    "    confidence = detRes[\"confidence\"]\n",
    "\n",
    "    color = \"blue\" #(min(labelId * 12.5, 255), min(labelId * 7, 255), min(labelId * 5, 255))\n",
    "    box_h = (ymax - ymin)\n",
    "    box_w = (xmax - xmin)\n",
    "    bbox = patches.Rectangle((xmin, ymin), box_w, box_h, linewidth=2, edgecolor=color, facecolor='none')\n",
    "    ax.add_patch(bbox)\n",
    "    plt.text(xmin, ymin, s=str(labelId), color='white', verticalalignment='top', bbox={'color': color, 'pad': 0})\n",
    "\n",
    "plt.axis('off')\n",
    "plt.show()"
   ]
  }
 ]
}