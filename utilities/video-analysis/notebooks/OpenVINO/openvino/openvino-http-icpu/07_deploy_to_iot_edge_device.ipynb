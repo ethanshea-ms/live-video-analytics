{
  "cells": [
    {
      "cell_type": "markdown",
      "execution_count": null,
      "metadata": {
        "collapsed": true
      },
      "outputs": [],
      "source": [
        "## 6. Deploy LVA & ML Solution to IoT Edge Device to handle Multiple Cameras\n",
        "Unless specified, all commands, cells below will be running on the development/deployment machine (not on the edge device)"
      ]
    },
    {
      "cell_type": "markdown",
      "execution_count": null,
      "metadata": {},
      "outputs": [],
      "source": [
        "### 6.1. Setting up IoT Edge deployment target"
      ]
    },
    {
      "cell_type": "markdown",
      "execution_count": null,
      "metadata": {},
      "outputs": [],
      "source": [
        "#### 6.1.1. Get stored variables & set new variables\n",
        "We will read the previously stored variables"
      ]
    },
    {
      "cell_type": "code",
      "execution_count": null,
      "metadata": {},
      "outputs": [],
      "source": [
        "from dotenv import set_key, get_key, find_dotenv\n",
        "envPath = find_dotenv(raise_error_if_not_found=True)\n",
        "\n",
        "acrServiceName = get_key(envPath, \"acrServiceName\")\n",
        "containerImageName = get_key(envPath, \"containerImageName\")\n",
        "acrUserName = get_key(envPath, \"acrUserName\")\n",
        "acrPassword = get_key(envPath, \"acrPassword\")\n",
        "acrServer = get_key(envPath, \"acrServer\")\n",
        "resourceGroupName = get_key(envPath, \"resourceGroupName\")\n",
        "iotHubServiceName = get_key(envPath, \"iotHubServiceName\")\n",
        "iotDeviceId = get_key(envPath, \"iotDeviceId\")\n",
        "iotEdgeDeviceConnString = get_key(envPath, \"iotEdgeDeviceConnString\")\n",
        "localacrServiceName = get_key(envPath, \"localacrServiceName\")\n",
        "\n",
        "\n",
        "# Set deployment specific variables for current deployment\n",
        "hostDebugFolder = \"/tmp/aix_debug_cam\"\n",
        "lvaModuleAddress = \"marketplace.azurecr.io/azure-media-services-preview/official/media_edge:1.3-linux-x64\"\n",
        "\n",
        "# Set to the scoring URI of the AI Extensibility module\n",
        "# DONT USE http://127.0.0.1 or http://localhost but use http://<MODULE_NAME>:<PORT_NUMBER>/<SCORING_PATH>\n",
        "# Scoring URI address MUST be same as the container name of the AI module!\n",
        "scoringURI = \"http://\" + containerImageName + \":5001/score\"\n",
        "\n",
        "# Template Manifest filenames\n",
        "templateManifestFileName = \"LVADeploymentManifestTemplate.json\"\n",
        "deploymentManifestFileName = \"LVADeploymentManifest.json\"\n",
        "resetDeviceManifestTemplate = \"LVAResetDeviceManifest.json\""
      ]
    },
    {
      "cell_type": "markdown",
      "metadata": {},
      "source": [
        "#### Set camera addresses and related parameters\n",
        "Per IP camera you want to connect to IoT Edge device, set the following parameter list:\n",
        "\n",
        "Template for **single** camera:  \n",
        "```python\n",
        "    lvaSettings = [\n",
        "        [\"<IP_CAM_1_RTSP_ENDPOINT>\", \"<IP_CAM_1_USERNAME>\", \"<IP_CAM_1_PASSWORD>\", \"CAM_1_MOTION_SENSITIVITY\", \"<CAM_1_FPS_FRAME_RATE_FILTER>\"]\n",
        "    ]\n",
        "```\n",
        "Sample for **single** camera:\n",
        "```python\n",
        "    lvaSettings = [\n",
        "        [\"rtsp://192.168.1.101\", \"user\", \"LVAD3m0!\", \"high\", \"2\"]\n",
        "    ]\n",
        "```\n",
        "\n",
        "Template for **multiple** cameras:\n",
        "```python\n",
        "    lvaSettings = [\n",
        "        [\"<IP_CAM_1_RTSP_ENDPOINT>\", \"<IP_CAM_1_USERNAME>\", \"<IP_CAM_1_PASSWORD>\", \"CAM_1_MOTION_SENSITIVITY\", \"<CAM_1_FPS_FRAME_RATE_FILTER>\"],\n",
        "        [\"<IP_CAM_2_RTSP_ENDPOINT>\", \"<IP_CAM_2_USERNAME>\", \"<IP_CAM_2_PASSWORD>\", \"CAM_2_MOTION_SENSITIVITY\", \"<CAM_2_FPS_FRAME_RATE_FILTER>\"],\n",
        "        ...\n",
        "        [\"<IP_CAM_n_RTSP_ENDPOINT>\", \"<IP_CAM_n_USERNAME>\", \"<IP_CAM_n_PASSWORD>\", \"CAM_n_MOTION_SENSITIVITY\", \"<CAM_n_FPS_FRAME_RATE_FILTER>\"]\n",
        "    ]\n",
        "```\n",
        "Sample for **multiple** camera:\n",
        "```python\n",
        "    lvaSettings = [\n",
        "        [\"rtsp://192.168.1.101\", \"user\", \"LVAD3m0!\", \"high\", \"2\"],\n",
        "        [\"rtsp://192.168.1.102\", \"user\", \"LVAD3m0!\", \"low\", \"1\"],\n",
        "        [\"rtsp://192.168.1.103\", \"user\", \"LVAD3m0!\", \"high\", \"1\"],\n",
        "        [\"rtsp://192.168.1.104\", \"user\", \"LVAD3m0!\", \"medium\", \"2\"],\n",
        "        [\"rtsp://192.168.1.105\", \"user\", \"LVAD3m0!\", \"high\", \"2\"],\n",
        "        [\"rtsp://192.168.1.106\", \"user\", \"LVAD3m0!\", \"low\", \"5\"]\n",
        "    ]\n",
        "```\n",
        "\n",
        "\n"
      ],
      "execution_count": null,
      "outputs": []
    },
    {
      "cell_type": "code",
      "execution_count": null,
      "metadata": {},
      "outputs": [],
      "source": [
        "# LVA camera settings\n",
        "lvaSettings = [\n",
        "    [\"rtsp://192.168.1.101\", \"user\", \"LVAD3m0!\", \"high\", \"2\"]\n",
        "]"
      ]
    },
    {
      "cell_type": "markdown",
      "metadata": {},
      "source": [
        "#### 6.1.2. Set ACR or LocalRepo flag\n",
        "\n",
        "In the previous section, we deploy the compiled docker image into Local Docker Repository or into ACR. Depending on where you deploy, set the below cell accordingly. If you are using local docker repository, than following cell should be  \n",
        "```python\n",
        "useACRFlag = False\n",
        "```\n",
        "\n",
        "if you are using ACR, than it should be  \n",
        "```python\n",
        "useACRFlag = True\n",
        "```"
      ],
      "execution_count": null,
      "outputs": []
    },
    {
      "cell_type": "code",
      "execution_count": null,
      "metadata": {},
      "outputs": [],
      "source": [
        "useACRFlag = False"
      ]
    },
    {
      "cell_type": "markdown",
      "metadata": {},
      "source": [
        "#### 6.1.3. Create a manifest file from the template\n",
        "Create a new manifest file from the template. Later we will update it to reflect the new settings"
      ],
      "execution_count": null,
      "outputs": []
    },
    {
      "cell_type": "code",
      "execution_count": null,
      "metadata": {},
      "outputs": [],
      "source": [
        "from shutil import copyfile\n",
        "\n",
        "# Create a copy from the template\n",
        "copyfile(templateManifestFileName, deploymentManifestFileName)"
      ]
    },
    {
      "cell_type": "markdown",
      "metadata": {},
      "source": [
        "#### 6.1.4. Update manifest file with AI module settings\n"
      ],
      "execution_count": null,
      "outputs": []
    },
    {
      "cell_type": "code",
      "execution_count": null,
      "metadata": {},
      "outputs": [],
      "source": [
        "import json\n",
        "\n",
        "with open(deploymentManifestFileName) as f:\n",
        "    deploymentManifest = json.load(f)\n",
        "\n",
        "aiModule = deploymentManifest[\"modulesContent\"][\"$edgeAgent\"][\"properties.desired\"][\"modules\"][\"<AIX_MODULE>\"]\n",
        "del deploymentManifest[\"modulesContent\"][\"$edgeAgent\"][\"properties.desired\"][\"modules\"][\"<AIX_MODULE>\"]\n",
        "\n",
        "aiModuleS = json.dumps(aiModule)\n",
        "if useACRFlag:\n",
        "    aiModuleS = aiModuleS.replace('AIX_CONTAINER_REGISTRY_FULL_NAME', acrServiceName+\".azurecr.io\")\n",
        "else:\n",
        "    aiModuleS = aiModuleS.replace('AIX_CONTAINER_REGISTRY_FULL_NAME', localacrServiceName)\n",
        "aiModuleS = aiModuleS.replace('AIX_CONTAINER_MODULE_NAME', containerImageName)\n",
        "aiModuleS = aiModuleS.replace('AIX_HOST_DEBUG_FOLDER', hostDebugFolder)\n",
        "\n",
        "aiModule = json.loads(aiModuleS)\n",
        "\n",
        "deploymentManifest[\"modulesContent\"][\"$edgeAgent\"][\"properties.desired\"][\"modules\"][containerImageName] = aiModule\n",
        "\n",
        "with open(deploymentManifestFileName, \"w\") as f:\n",
        "    deploymentManifest = json.dump(deploymentManifest, f, indent=4, sort_keys=True)"
      ]
    },
    {
      "cell_type": "markdown",
      "metadata": {},
      "source": [
        "#### 6.1.5. Update manifest file with LVA module settings"
      ],
      "execution_count": null,
      "outputs": []
    },
    {
      "cell_type": "code",
      "execution_count": null,
      "metadata": {},
      "outputs": [],
      "source": [
        "import json\n",
        "\n",
        "with open(deploymentManifestFileName) as f:\n",
        "    deploymentManifest = json.load(f)\n",
        "\n",
        "lvaModule = deploymentManifest[\"modulesContent\"][\"$edgeAgent\"][\"properties.desired\"][\"modules\"][\"<LVA_MODULE>\"]\n",
        "del deploymentManifest[\"modulesContent\"][\"$edgeAgent\"][\"properties.desired\"][\"modules\"][\"<LVA_MODULE>\"]\n",
        "\n",
        "lvaModuleS = json.dumps(lvaModule)\n",
        "lvaModuleS = lvaModuleS.replace('AIX_LVA_MODULE_ADDRESS', lvaModuleAddress)\n",
        "\n",
        "lvaModule = json.loads(lvaModuleS)\n",
        "\n",
        "for s in lvaSettings:\n",
        "    deploymentManifest[\"modulesContent\"][\"$edgeAgent\"][\"properties.desired\"][\"modules\"][\"lva\" + s[0][-3:]] = lvaModule\n",
        "\n",
        "with open(deploymentManifestFileName, \"w\") as f:\n",
        "    deploymentManifest = json.dump(deploymentManifest, f, indent=4, sort_keys=True)"
      ]
    },
    {
      "cell_type": "markdown",
      "metadata": {},
      "source": [
        "#### 6.1.6. Set module properties in the deployment manifest file\n"
      ],
      "execution_count": null,
      "outputs": []
    },
    {
      "cell_type": "code",
      "execution_count": null,
      "metadata": {},
      "outputs": [],
      "source": [
        "import json\n",
        "\n",
        "with open(deploymentManifestFileName) as f:\n",
        "    deploymentManifest = json.load(f)\n",
        "\n",
        "aiModuleProp = deploymentManifest[\"modulesContent\"][\"<AIX_MODULE_PROPERTIES>\"]\n",
        "del deploymentManifest[\"modulesContent\"][\"<AIX_MODULE_PROPERTIES>\"]\n",
        "deploymentManifest[\"modulesContent\"][containerImageName] = aiModuleProp\n",
        "\n",
        "with open(deploymentManifestFileName, \"w\") as f:\n",
        "    deploymentManifest = json.dump(deploymentManifest, f, indent=4, sort_keys=True)"
      ]
    },
    {
      "cell_type": "code",
      "execution_count": null,
      "metadata": {},
      "outputs": [],
      "source": [
        "with open(deploymentManifestFileName) as f:\n",
        "    deploymentManifest = json.load(f)\n",
        "\n",
        "lvaModule = deploymentManifest[\"modulesContent\"][\"<LVA_MODULE_PROPERTIES>\"]\n",
        "del deploymentManifest[\"modulesContent\"][\"<LVA_MODULE_PROPERTIES>\"]\n",
        "\n",
        "\n",
        "for s in lvaSettings:\n",
        "    lvaModuleS = json.dumps(lvaModule)\n",
        "    lvaModuleS = lvaModuleS.replace('AIX_IP_CAM_ADDRESS', s[0])\n",
        "    lvaModuleS = lvaModuleS.replace('AIX_IP_CAM_USER_NAME', s[1])\n",
        "    lvaModuleS = lvaModuleS.replace('AIX_IP_CAM_PASSWORD', s[2])\n",
        "    lvaModuleS = lvaModuleS.replace('AIX_MOTION_SENSITIVITY', s[3])\n",
        "    lvaModuleS = lvaModuleS.replace('AIX_IP_CAM_FPS_FILTER', s[4])\n",
        "    lvaModuleS = lvaModuleS.replace('AIX_CONTAINER_SCORING_URI', scoringURI + \"?cam=\" + str(int(s[0][-3:])))\n",
        "    temp = json.loads(lvaModuleS)\n",
        "\n",
        "    deploymentManifest[\"modulesContent\"][\"lva\" + s[0][-3:]] = temp\n",
        "\n",
        "\n",
        "with open(deploymentManifestFileName, \"w\") as f:\n",
        "    deploymentManifest = json.dump(deploymentManifest, f, indent=4, sort_keys=True)"
      ]
    },
    {
      "cell_type": "code",
      "execution_count": null,
      "metadata": {},
      "outputs": [],
      "source": [
        "# We have a deployment template file which needs to be updated with AI model's container registry address and credentials\n",
        "file = open(deploymentManifestFileName)\n",
        "deploymentTemplate = file.read()\n",
        "\n",
        "if useACRFlag:\n",
        "    deploymentTemplate = deploymentTemplate.replace('AIX_CONTAINER_REGISTRY_NAME', acrServiceName)\n",
        "    deploymentTemplate = deploymentTemplate.replace('AIX_CONTAINER_REGISTRY_FULL_NAME', acrServiceName+\".azurecr.io\")\n",
        "else:\n",
        "    deploymentTemplate = deploymentTemplate.replace('AIX_CONTAINER_REGISTRY_NAME', localacrServiceName)\n",
        "    deploymentTemplate = deploymentTemplate.replace('AIX_CONTAINER_REGISTRY_FULL_NAME', localacrServiceName)\n",
        "\n",
        "deploymentTemplate = deploymentTemplate.replace('AIX_CONTAINER_REGISTRY_USER_NAME', acrUserName)\n",
        "deploymentTemplate = deploymentTemplate.replace('AIX_CONTAINER_REGISTRY_PASSWORD', acrPassword)\n",
        "\n",
        "# Save the resulting deployment file on disk, so we can pass it to deployment API (currently not supporting direct Json string input)\n",
        "with open(deploymentManifestFileName, 'wt', encoding='utf-8') as outputFile:\n",
        "    outputFile.write(deploymentTemplate)\n",
        "    \n",
        "print(deploymentTemplate)"
      ]
    },
    {
      "cell_type": "markdown",
      "execution_count": null,
      "metadata": {},
      "outputs": [],
      "source": [
        "### 6.2. Deploy to IoT Edge Target\n",
        "In previous sections, we already set up our physical (or virtual on a VM) IoT Edge Device. Now we connect / match the physical device with the cloud based one on the IoTHub. Everything that we are pushing into IoTHub based edge device will will be cloned into the physical device (all IoT Edge modules, settings etc. defined in the manifest file)"
      ]
    },
    {
      "cell_type": "code",
      "execution_count": null,
      "metadata": {},
      "outputs": [],
      "source": [
        "# Install iot hub CLI extensions. To run below cells, we need iot edge extension\n",
        "!az extension add --name azure-cli-iot-ext"
      ]
    },
    {
      "cell_type": "markdown",
      "execution_count": null,
      "metadata": {},
      "outputs": [],
      "source": [
        "<span style=\"color:red; font-weight: bold; font-size:1.1em;\"> [!Warning] </span>  \n",
        "Running below cell will reset and remove all previously deployed modules on the edge devices."
      ]
    },
    {
      "cell_type": "code",
      "execution_count": null,
      "metadata": {},
      "outputs": [],
      "source": [
        "# First Reset the edge device\n",
        "!az iot edge set-modules --device-id $iotDeviceId --hub-name $iotHubServiceName --content $resetDeviceManifestTemplate"
      ]
    },
    {
      "cell_type": "markdown",
      "execution_count": null,
      "metadata": {},
      "outputs": [],
      "source": [
        "<span style=\"color:red; font-weight: bold; font-size:1.1em;\"> [!Warning] </span>  \n",
        "Running below cell will deploy all modules (our AI extensibility module that we created, lva and all required ones) and settings to the edge devices."
      ]
    },
    {
      "cell_type": "code",
      "execution_count": null,
      "metadata": {},
      "outputs": [],
      "source": [
        "# Push the deployment JSON to the IOT Hub\n",
        "!az iot edge set-modules --device-id $iotDeviceId --hub-name $iotHubServiceName --content $deploymentManifestFileName"
      ]
    },
    {
      "cell_type": "markdown",
      "execution_count": null,
      "metadata": {},
      "outputs": [],
      "source": [
        "<span style=\"color:red; font-weight: bold; font-size:1.1em;\"> [!Important] </span>  \n",
        "\n",
        "Once you run the above cell, or make new manifest deployment, run the following shell command on the **IoT Edge Device** to restart the IoT Edge Runtime and the module in order.\n",
        "\n",
        "\n",
        "```bash\n",
        "sudo systemctl restart iotedge\n",
        "\n",
        "sudo iotedge restart <IOT_EDGE_AI_MODULE_NAME>\n",
        "```"
      ]
    },
    {
      "cell_type": "markdown",
      "execution_count": null,
      "metadata": {},
      "outputs": [],
      "source": [
        "<span style=\"color:red; font-weight: bold; font-size:1.1em;\"> [!Important] </span>  \n",
        "On the IoT Edge device, run the following shell command to see if all required modules pulled and running. Depending on your Internet connection speed, it may take some time to pull images into IoT Edge device.\n",
        "\n",
        "```shell\n",
        "sudo iotedge list\n",
        "```\n",
        "\n",
        "Running above command, you should see something similar to below 4 lines, telling that 4 IoTEdge modules (edgeAgent, edgeHub, mediaEdge and mkov01aimodule) pulled, up and running...\n",
        "\n",
        "```\n",
        "NAME                        STATUS           DESCRIPTION      CONFIG\n",
        "edgeAgent                   running          Up 4 minutes     mcr.microsoft.com/azureiotedge-agent:1.0\n",
        "<IOT_EDGE_AI_MODULE_NAME>   running          Up 4 minutes     mkregistry:55000/mkov01aimodule:latest\n",
        "<LVA_MODULE_NAME>           running          Up 4 minutes     marketplace.azurecr.io/azure-media-services-preview/official/media_edge:1.2-linux-x64\n",
        "edgeHub                     running          Up 4 minutes     mcr.microsoft.com/azureiotedge-hub:1.0\n",
        "```"
      ]
    },
    {
      "cell_type": "markdown",
      "execution_count": null,
      "metadata": {},
      "outputs": [],
      "source": [
        "<span style=\"color:red; font-weight: bold; font-size:1.1em;\"> [!Important] </span>  \n",
        "\n",
        "Once all modules up and running on the edge device, you should see green icon on the left of \"mkov01aimodule\" module name in the Azure IoT Hub Extension window in Visual Studio code.\n",
        "\n",
        "<img src=\"../doc_imgs/img_03_026.jpg\" width=300 alt=\"> Figure: IoT Edge Module list.\"/>  \n",
        "\n",
        "wait 1-2 minute to have IoT Edge Runtime up and running in stable mode. If it is still not green, use the following shell command to restart it:\n",
        "\n",
        "```shell\n",
        "sudo iotedge restart <IOT_EDGE_AI_MODULE_NAME>\n",
        "```\n",
        "\n",
        "After all, you should see inference results going into logs and IoTHub which are explained in next section, section 9. If you dont observe any message flow or if you think that the pipeline is not working, you should try restarting just the LVA module:\n",
        "\n",
        "```shell\n",
        "sudo iotedge restart <LVA_MODULE_NAME>\n",
        "```"
      ]
    },
    {
      "cell_type": "code",
      "execution_count": null,
      "metadata": {},
      "outputs": [],
      "source": []
    }
  ],
  "metadata": {
    "kernelspec": {
      "name": "python3",
      "display_name": "Python 3",
      "language": "python"
    },
    "language_info": {
      "mimetype": "text/x-python",
      "nbconvert_exporter": "python",
      "name": "python",
      "pygments_lexer": "ipython3",
      "version": "3.6.9-final",
      "file_extension": ".py",
      "codemirror_mode": {
        "version": 3,
        "name": "ipython"
      }
    }
  },
  "nbformat": 4,
  "nbformat_minor": 2
}