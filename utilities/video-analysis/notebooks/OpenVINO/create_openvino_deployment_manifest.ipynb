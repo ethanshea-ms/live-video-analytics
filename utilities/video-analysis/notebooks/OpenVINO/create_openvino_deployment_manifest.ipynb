{
 "cells": [
  {
   "cell_type": "code",
   "execution_count": null,
   "metadata": {},
   "outputs": [],
   "source": [
    "import sys\n",
    "sys.path.append('../common')\n",
    "from env_variables import *"
   ]
  },
  {
   "cell_type": "code",
   "execution_count": null,
   "metadata": {},
   "outputs": [],
   "source": [
    "# Manifest filenames\n",
    "templateManifestFileName = \"../common/deployment.lva_common.template.json\"\n",
    "deploymentManifestFileName = \"deployment.lva_openvino.template.json\""
   ]
  },
  {
   "cell_type": "code",
   "execution_count": null,
   "metadata": {},
   "outputs": [],
   "source": [
    "from shutil import copyfile\n",
    "\n",
    "# Create a copy from the template\n",
    "copyfile(templateManifestFileName, deploymentManifestFileName)"
   ]
  },
  {
   "cell_type": "code",
   "execution_count": null,
   "metadata": {},
   "outputs": [],
   "source": [
    "LAST STOPPED HERE"
   ]
  },
  {
   "cell_type": "markdown",
   "metadata": {},
   "source": [
    "Update Manifest File with AI Module Settings"
   ]
  },
  {
   "cell_type": "code",
   "execution_count": null,
   "metadata": {},
   "outputs": [],
   "source": [
    "import json\n",
    "\n",
    "with open(deploymentManifestFileName) as f:\n",
    "    deploymentManifest = json.load(f)\n",
    "\n",
    "aiModule = deploymentManifest[\"modulesContent\"][\"$edgeAgent\"][\"properties.desired\"][\"modules\"][\"<AIX_MODULE>\"]\n",
    "del deploymentManifest[\"modulesContent\"][\"$edgeAgent\"][\"properties.desired\"][\"modules\"][\"<AIX_MODULE>\"]\n",
    "\n",
    "aiModuleS = json.dumps(aiModule)\n",
    "if useACRFlag:\n",
    "    aiModuleS = aiModuleS.replace('AIX_CONTAINER_REGISTRY_FULL_NAME', containerRegServiceName+\".azurecr.io\")\n",
    "else:\n",
    "    aiModuleS = aiModuleS.replace('AIX_CONTAINER_REGISTRY_FULL_NAME', localContainerRegServiceName)\n",
    "aiModuleS = aiModuleS.replace('AIX_CONTAINER_MODULE_NAME', containerImageName)\n",
    "\n",
    "aiModule = json.loads(aiModuleS)\n",
    "\n",
    "deploymentManifest[\"modulesContent\"][\"$edgeAgent\"][\"properties.desired\"][\"modules\"][containerImageName] = aiModule\n",
    "\n",
    "with open(deploymentManifestFileName, \"w\") as f:\n",
    "    deploymentManifest = json.dump(deploymentManifest, f, indent=4, sort_keys=True)"
   ]
  },
  {
   "cell_type": "markdown",
   "metadata": {},
   "source": [
    "Update Manifest File with LVA Module Settings"
   ]
  },
  {
   "cell_type": "code",
   "execution_count": null,
   "metadata": {},
   "outputs": [],
   "source": [
    "import json\n",
    "\n",
    "with open(deploymentManifestFileName) as f:\n",
    "    deploymentManifest = json.load(f)\n",
    "\n",
    "lvaModule = deploymentManifest[\"modulesContent\"][\"$edgeAgent\"][\"properties.desired\"][\"modules\"][\"<LVA_MODULE>\"]\n",
    "del deploymentManifest[\"modulesContent\"][\"$edgeAgent\"][\"properties.desired\"][\"modules\"][\"<LVA_MODULE>\"]\n",
    "\n",
    "lvaModuleS = json.dumps(lvaModule)\n",
    "\n",
    "lvaModule = json.loads(lvaModuleS)\n",
    "\n",
    "for s in lvaSettings:\n",
    "    deploymentManifest[\"modulesContent\"][\"$edgeAgent\"][\"properties.desired\"][\"modules\"][\"lva\" + s[0][-3:]] = lvaModule\n",
    "\n",
    "with open(deploymentManifestFileName, \"w\") as f:\n",
    "    deploymentManifest = json.dump(deploymentManifest, f, indent=4, sort_keys=True)"
   ]
  },
  {
   "cell_type": "markdown",
   "metadata": {},
   "source": [
    "Set Module Properties in the Deployment Manifest File"
   ]
  },
  {
   "cell_type": "code",
   "execution_count": null,
   "metadata": {},
   "outputs": [],
   "source": [
    "import json\n",
    "\n",
    "with open(deploymentManifestFileName) as f:\n",
    "    deploymentManifest = json.load(f)\n",
    "\n",
    "aiModuleProp = deploymentManifest[\"modulesContent\"][\"<AIX_MODULE_PROPERTIES>\"]\n",
    "del deploymentManifest[\"modulesContent\"][\"<AIX_MODULE_PROPERTIES>\"]\n",
    "deploymentManifest[\"modulesContent\"][containerImageName] = aiModuleProp\n",
    "\n",
    "with open(deploymentManifestFileName, \"w\") as f:\n",
    "    deploymentManifest = json.dump(deploymentManifest, f, indent=4, sort_keys=True)"
   ]
  },
  {
   "cell_type": "code",
   "execution_count": null,
   "metadata": {},
   "outputs": [],
   "source": [
    "with open(deploymentManifestFileName) as f:\n",
    "    deploymentManifest = json.load(f)\n",
    "\n",
    "lvaModule = deploymentManifest[\"modulesContent\"][\"<LVA_MODULE_PROPERTIES>\"]\n",
    "del deploymentManifest[\"modulesContent\"][\"<LVA_MODULE_PROPERTIES>\"]\n",
    "\n",
    "\n",
    "for s in lvaSettings:\n",
    "    lvaModuleS = json.dumps(lvaModule)\n",
    "    lvaModuleS = lvaModuleS.replace('AIX_IP_CAM_ADDRESS', s[0])\n",
    "    lvaModuleS = lvaModuleS.replace('AIX_IP_CAM_USER_NAME', s[1])\n",
    "    lvaModuleS = lvaModuleS.replace('AIX_IP_CAM_PASSWORD', s[2])\n",
    "    lvaModuleS = lvaModuleS.replace('AIX_MOTION_SENSITIVITY', s[3])\n",
    "    lvaModuleS = lvaModuleS.replace('AIX_IP_CAM_FPS_FILTER', s[4])\n",
    "    temp = json.loads(lvaModuleS)\n",
    "\n",
    "    deploymentManifest[\"modulesContent\"][\"lva\" + s[0][-3:]] = temp\n",
    "\n",
    "\n",
    "with open(deploymentManifestFileName, \"w\") as f:\n",
    "    deploymentManifest = json.dump(deploymentManifest, f, indent=4, sort_keys=True)"
   ]
  },
  {
   "cell_type": "code",
   "execution_count": null,
   "metadata": {},
   "outputs": [],
   "source": [
    "# We have a deployment template file which needs to be updated with AI model's container registry address and credentials\n",
    "file = open(deploymentManifestFileName)\n",
    "deploymentTemplate = file.read()\n",
    "\n",
    "if useACRFlag:\n",
    "    deploymentTemplate = deploymentTemplate.replace('AIX_CONTAINER_REGISTRY_NAME', containerRegServiceName)\n",
    "    deploymentTemplate = deploymentTemplate.replace('AIX_CONTAINER_REGISTRY_FULL_NAME', containerRegServiceName+\".azurecr.io\")\n",
    "else:\n",
    "    deploymentTemplate = deploymentTemplate.replace('AIX_CONTAINER_REGISTRY_NAME', localContainerRegServiceName)\n",
    "    deploymentTemplate = deploymentTemplate.replace('AIX_CONTAINER_REGISTRY_FULL_NAME', localContainerRegServiceName)\n",
    "\n",
    "deploymentTemplate = deploymentTemplate.replace('AIX_CONTAINER_REGISTRY_USER_NAME', acrUserName)\n",
    "deploymentTemplate = deploymentTemplate.replace('AIX_CONTAINER_REGISTRY_PASSWORD', acrPassword)\n",
    "\n",
    "# Save the resulting deployment file on disk, so we can pass it to deployment API (currently not supporting direct Json string input)\n",
    "with open(deploymentManifestFileName, 'wt', encoding='utf-8') as outputFile:\n",
    "    outputFile.write(deploymentTemplate)\n",
    "    \n",
    "print(deploymentTemplate)"
   ]
  }
 ],
 "metadata": {
  "language_info": {
   "codemirror_mode": {
    "name": "ipython",
    "version": 3
   },
   "file_extension": ".py",
   "mimetype": "text/x-python",
   "name": "python",
   "nbconvert_exporter": "python",
   "pygments_lexer": "ipython3",
   "version": 3
  },
  "orig_nbformat": 2
 },
 "nbformat": 4,
 "nbformat_minor": 2
}